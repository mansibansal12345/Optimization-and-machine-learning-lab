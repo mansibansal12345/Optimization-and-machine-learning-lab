{
  "nbformat": 4,
  "nbformat_minor": 0,
  "metadata": {
    "colab": {
      "provenance": []
    },
    "kernelspec": {
      "name": "python3",
      "display_name": "Python 3"
    },
    "language_info": {
      "name": "python"
    }
  },
  "cells": [
    {
      "cell_type": "markdown",
      "source": [
        "#Q1"
      ],
      "metadata": {
        "id": "jm2f5vAqoenv"
      }
    },
    {
      "cell_type": "code",
      "source": [
        "!pip install nashpy"
      ],
      "metadata": {
        "colab": {
          "base_uri": "https://localhost:8080/"
        },
        "id": "TAbIM4UoayOV",
        "outputId": "b209f96c-7738-4863-e7b2-b58e17ac2d02"
      },
      "execution_count": 2,
      "outputs": [
        {
          "output_type": "stream",
          "name": "stdout",
          "text": [
            "Collecting nashpy\n",
            "  Downloading nashpy-0.0.41-py3-none-any.whl.metadata (6.6 kB)\n",
            "Requirement already satisfied: numpy>=1.21.0 in /usr/local/lib/python3.11/dist-packages (from nashpy) (2.0.2)\n",
            "Requirement already satisfied: scipy>=0.19.0 in /usr/local/lib/python3.11/dist-packages (from nashpy) (1.14.1)\n",
            "Requirement already satisfied: networkx>=3.0.0 in /usr/local/lib/python3.11/dist-packages (from nashpy) (3.4.2)\n",
            "Requirement already satisfied: deprecated>=1.2.14 in /usr/local/lib/python3.11/dist-packages (from nashpy) (1.2.18)\n",
            "Requirement already satisfied: wrapt<2,>=1.10 in /usr/local/lib/python3.11/dist-packages (from deprecated>=1.2.14->nashpy) (1.17.2)\n",
            "Downloading nashpy-0.0.41-py3-none-any.whl (27 kB)\n",
            "Installing collected packages: nashpy\n",
            "Successfully installed nashpy-0.0.41\n"
          ]
        }
      ]
    },
    {
      "cell_type": "code",
      "source": [
        "import numpy as np\n",
        "import pandas as pd\n",
        "import nashpy as nash"
      ],
      "metadata": {
        "id": "Mfz4_HbXare-"
      },
      "execution_count": 20,
      "outputs": []
    },
    {
      "cell_type": "code",
      "source": [
        "from pyomo.environ import *\n",
        "!apt-get install glpk-utils"
      ],
      "metadata": {
        "colab": {
          "base_uri": "https://localhost:8080/"
        },
        "collapsed": true,
        "id": "nyAHWUkxcZMX",
        "outputId": "4c2726f2-7f40-4c22-940f-f601fb574e1c"
      },
      "execution_count": 19,
      "outputs": [
        {
          "output_type": "stream",
          "name": "stdout",
          "text": [
            "Reading package lists... Done\n",
            "Building dependency tree... Done\n",
            "Reading state information... Done\n",
            "glpk-utils is already the newest version (5.0-1).\n",
            "0 upgraded, 0 newly installed, 0 to remove and 29 not upgraded.\n"
          ]
        }
      ]
    },
    {
      "cell_type": "markdown",
      "source": [
        "For manual computation of saddle points we have calculated maxmin and minmax value in the matrix, if these two values are equal then saddle point exists. That value is saddle point value and the positions it is found at is saddle point."
      ],
      "metadata": {
        "id": "6u47jaEyfUY2"
      }
    },
    {
      "cell_type": "markdown",
      "source": [
        "We have constructed a LP and solved using pulp that gives the correspondig maxmin and minmax values."
      ],
      "metadata": {
        "id": "7VpYbbnIgB2g"
      }
    },
    {
      "cell_type": "code",
      "source": [
        "!pip install pulp"
      ],
      "metadata": {
        "colab": {
          "base_uri": "https://localhost:8080/"
        },
        "id": "OKDpmVKdrR-N",
        "outputId": "7225d7b5-51b0-4c7c-9f16-193235fc8e98"
      },
      "execution_count": 17,
      "outputs": [
        {
          "output_type": "stream",
          "name": "stdout",
          "text": [
            "Requirement already satisfied: pulp in /usr/local/lib/python3.11/dist-packages (3.0.2)\n"
          ]
        }
      ]
    },
    {
      "cell_type": "code",
      "source": [
        "import numpy as np\n",
        "import pulp\n",
        "\n",
        "def find_saddle_points(mat):\n",
        "    s_points = []\n",
        "    row_min = np.min(mat, axis=1)\n",
        "    col_max = np.max(mat, axis=0)\n",
        "    for i in range(mat.shape[0]):\n",
        "        for j in range(mat.shape[1]):\n",
        "            if mat[i, j] == row_min[i] and mat[i, j] == col_max[j]:\n",
        "                s_points.append((i + 1, j + 1))\n",
        "    return s_points\n",
        "\n",
        "def solve_lp(mat, maximize=True):\n",
        "    r, c = mat.shape\n",
        "    prob = pulp.LpProblem(\"Game\", pulp.LpMaximize if maximize else pulp.LpMinimize)\n",
        "    strat_vars = [pulp.LpVariable(f\"x{i}\", lowBound=0) for i in range(r if maximize else c)]\n",
        "    g_val = pulp.LpVariable(\"g_val\")\n",
        "\n",
        "    prob += g_val\n",
        "    prob += pulp.lpSum(strat_vars) == 1\n",
        "\n",
        "    if maximize:\n",
        "        for j in range(c):\n",
        "            prob += g_val <= pulp.lpSum(mat[i, j] * strat_vars[i] for i in range(r))\n",
        "    else:\n",
        "        for i in range(r):\n",
        "            prob += g_val >= pulp.lpSum(mat[i, j] * strat_vars[j] for j in range(c))\n",
        "\n",
        "    prob.solve(pulp.PULP_CBC_CMD())\n",
        "    return [v.varValue for v in strat_vars], g_val.varValue\n",
        "\n",
        "game_mat = np.array([\n",
        "    [1, 3, 8, 3],\n",
        "    [7, 1, 2, -2],\n",
        "    [4, 3, 12, 3]\n",
        "])\n",
        "\n",
        "print(\"Matrix:\")\n",
        "print(game_mat)\n",
        "\n",
        "# Maximin (Row Player)\n",
        "r_strat, max_val = solve_lp(game_mat, maximize=True)\n",
        "print(\"\\nRow Player's Strategy:\", r_strat)\n",
        "print(\"Maximin Value:\", max_val)\n",
        "\n",
        "# Minimax (Column Player)\n",
        "c_strat, min_val = solve_lp(game_mat, maximize=False)\n",
        "print(\"\\nColumn Player's Strategy:\", c_strat)\n",
        "print(\"Minimax Value:\", min_val)\n",
        "\n",
        "# Saddle Points\n",
        "s_points = find_saddle_points(game_mat)\n",
        "print(\"\\nSaddle Points:\", s_points if s_points else \"None\")"
      ],
      "metadata": {
        "id": "RVyvsJGXeaBg"
      },
      "execution_count": null,
      "outputs": []
    },
    {
      "cell_type": "code",
      "source": [
        "import numpy as np\n",
        "import nashpy as nash\n",
        "game_mat = np.array([\n",
        "    [1, 3, 8, 3],\n",
        "    [7, 1, 2, -2],\n",
        "    [4, 3, 12, 3]\n",
        "])\n",
        "print(\"Matrix:\")\n",
        "print(game_mat)\n",
        "# Create game using Nashpy\n",
        "game = nash.Game(game_mat)\n",
        "equilibria = list(game.support_enumeration())\n",
        "print(\"\\nNash Equilibria:\")\n",
        "for eq in equilibria:\n",
        "    print(f\"Row Strategy: {eq[0]}, Column Strategy: {eq[1]}\")\n",
        "print(\".\"*100)"
      ],
      "metadata": {
        "colab": {
          "base_uri": "https://localhost:8080/"
        },
        "id": "AVWoDmrLeppR",
        "outputId": "227fe4a1-4c67-4edc-eddc-ec20179233d8"
      },
      "execution_count": 12,
      "outputs": [
        {
          "output_type": "stream",
          "name": "stdout",
          "text": [
            "Matrix:\n",
            "[[ 1  3  8  3]\n",
            " [ 7  1  2 -2]\n",
            " [ 4  3 12  3]]\n",
            "\n",
            "Nash Equilibria:\n",
            "Row Strategy: [0. 0. 1.], Column Strategy: [0. 1. 0. 0.]\n",
            "Row Strategy: [0. 0. 1.], Column Strategy: [0. 0. 0. 1.]\n",
            "....................................................................................................\n"
          ]
        },
        {
          "output_type": "stream",
          "name": "stderr",
          "text": [
            "/usr/local/lib/python3.11/dist-packages/nashpy/algorithms/support_enumeration.py:260: RuntimeWarning: \n",
            "An even number of (2) equilibria was returned. This\n",
            "indicates that the game is degenerate. Consider using another algorithm\n",
            "to investigate.\n",
            "                  \n",
            "  warnings.warn(warning, RuntimeWarning)\n"
          ]
        }
      ]
    },
    {
      "cell_type": "markdown",
      "source": [
        "#Q2"
      ],
      "metadata": {
        "id": "ngDjFvmKxWH7"
      }
    },
    {
      "cell_type": "code",
      "source": [
        "import numpy as np\n",
        "import pandas as pd\n",
        "\n",
        "def fictitious_play(payoff_matrix, iterations=1000):\n",
        "    num_rows, num_cols = payoff_matrix.shape\n",
        "    row_counts = np.zeros(num_rows)\n",
        "    col_counts = np.zeros(num_cols)\n",
        "    row_action = np.random.choice(num_rows)\n",
        "    col_action = np.random.choice(num_cols)\n",
        "    row_counts[row_action] += 1\n",
        "    col_counts[col_action] += 1\n",
        "    history = []\n",
        "\n",
        "    for step in range(1, iterations + 1):\n",
        "        row_distribution = row_counts / np.sum(row_counts)\n",
        "        col_distribution = col_counts / np.sum(col_counts)\n",
        "        row_payoffs = payoff_matrix.dot(col_distribution)\n",
        "        col_payoffs = -payoff_matrix.T.dot(row_distribution)\n",
        "        row_action = np.argmax(row_payoffs)\n",
        "        col_action = np.argmax(col_payoffs)\n",
        "        row_counts[row_action] += 1\n",
        "        col_counts[col_action] += 1\n",
        "\n",
        "        if step <= 50 or step > iterations - 50:\n",
        "            history.append((step, row_action, col_action, row_distribution.copy(), col_distribution.copy()))\n",
        "\n",
        "    final_row_strategy = row_counts / np.sum(row_counts)\n",
        "    final_col_strategy = col_counts / np.sum(col_counts)\n",
        "    game_value = final_row_strategy.dot(payoff_matrix).dot(final_col_strategy)\n",
        "\n",
        "    return history, final_row_strategy, final_col_strategy, game_value\n",
        "\n",
        "# Example matrix\n",
        "payoff_matrix = np.array([\n",
        "    [1, 3, 8, 3],\n",
        "    [7, 1, 2, -2],\n",
        "    [4, 3, 12, 3]\n",
        "])\n",
        "\n",
        "# Run simulation\n",
        "results, final_row_strategy, final_col_strategy, game_value = fictitious_play(payoff_matrix, iterations=1000)\n",
        "\n",
        "df = pd.DataFrame(\n",
        "    results,\n",
        "    columns=[\"Step\", \"Row Best Response\", \"Col Best Response\", \"Row Strategy\", \"Col Strategy\"]\n",
        ")\n",
        "df[\"Row Strategy\"] = df[\"Row Strategy\"].apply(lambda arr: np.array2string(np.round(arr, 3), separator=','))\n",
        "df[\"Col Strategy\"] = df[\"Col Strategy\"].apply(lambda arr: np.array2string(np.round(arr, 3), separator=','))\n",
        "\n",
        "# Display results\n",
        "print(\"\\nFinal Results:\")\n",
        "print(f\"Final Row Strategy: {np.round(final_row_strategy, 3)}\")\n",
        "print(f\"Final Column Strategy: {np.round(final_col_strategy, 3)}\")\n",
        "print(f\"Game Value: {round(game_value, 3)}\")\n",
        "\n",
        "print(\"\\nIteration Records:\")\n",
        "print(df.to_string(index=False))"
      ],
      "metadata": {
        "colab": {
          "base_uri": "https://localhost:8080/"
        },
        "id": "IXZzlGBcEjXh",
        "outputId": "59e077ba-5957-4666-d11a-a8db896f4f25"
      },
      "execution_count": 13,
      "outputs": [
        {
          "output_type": "stream",
          "name": "stdout",
          "text": [
            "\n",
            "Final Results:\n",
            "Final Row Strategy: [0.006 0.001 0.993]\n",
            "Final Column Strategy: [0.005 0.001 0.    0.994]\n",
            "Game Value: 3.0\n",
            "\n",
            "Iteration Records:\n",
            " Step  Row Best Response  Col Best Response        Row Strategy              Col Strategy\n",
            "    1                  0                  3          [0.,1.,0.]             [0.,1.,0.,0.]\n",
            "    2                  0                  3       [0.5,0.5,0. ]         [0. ,0.5,0. ,0.5]\n",
            "    3                  0                  3 [0.667,0.333,0.   ] [0.   ,0.333,0.   ,0.667]\n",
            "    4                  0                  3    [0.75,0.25,0.  ]     [0.  ,0.25,0.  ,0.75]\n",
            "    5                  0                  3       [0.8,0.2,0. ]         [0. ,0.2,0. ,0.8]\n",
            "    6                  0                  0 [0.833,0.167,0.   ] [0.   ,0.167,0.   ,0.833]\n",
            "    7                  2                  0 [0.857,0.143,0.   ] [0.143,0.143,0.   ,0.714]\n",
            "    8                  2                  0 [0.75 ,0.125,0.125] [0.25 ,0.125,0.   ,0.625]\n",
            "    9                  2                  0 [0.667,0.111,0.222] [0.333,0.111,0.   ,0.556]\n",
            "   10                  2                  0       [0.6,0.1,0.3]         [0.4,0.1,0. ,0.5]\n",
            "   11                  2                  3 [0.545,0.091,0.364] [0.455,0.091,0.   ,0.455]\n",
            "   12                  2                  3 [0.5  ,0.083,0.417] [0.417,0.083,0.   ,0.5  ]\n",
            "   13                  2                  3 [0.462,0.077,0.462] [0.385,0.077,0.   ,0.538]\n",
            "   14                  2                  3 [0.429,0.071,0.5  ] [0.357,0.071,0.   ,0.571]\n",
            "   15                  2                  3 [0.4  ,0.067,0.533] [0.333,0.067,0.   ,0.6  ]\n",
            "   16                  2                  3 [0.375,0.062,0.562] [0.312,0.062,0.   ,0.625]\n",
            "   17                  2                  3 [0.353,0.059,0.588] [0.294,0.059,0.   ,0.647]\n",
            "   18                  2                  3 [0.333,0.056,0.611] [0.278,0.056,0.   ,0.667]\n",
            "   19                  2                  3 [0.316,0.053,0.632] [0.263,0.053,0.   ,0.684]\n",
            "   20                  2                  3    [0.3 ,0.05,0.65]     [0.25,0.05,0.  ,0.7 ]\n",
            "   21                  2                  3 [0.286,0.048,0.667] [0.238,0.048,0.   ,0.714]\n",
            "   22                  2                  3 [0.273,0.045,0.682] [0.227,0.045,0.   ,0.727]\n",
            "   23                  2                  3 [0.261,0.043,0.696] [0.217,0.043,0.   ,0.739]\n",
            "   24                  2                  3 [0.25 ,0.042,0.708] [0.208,0.042,0.   ,0.75 ]\n",
            "   25                  2                  3    [0.24,0.04,0.72]     [0.2 ,0.04,0.  ,0.76]\n",
            "   26                  2                  3 [0.231,0.038,0.731] [0.192,0.038,0.   ,0.769]\n",
            "   27                  2                  3 [0.222,0.037,0.741] [0.185,0.037,0.   ,0.778]\n",
            "   28                  2                  3 [0.214,0.036,0.75 ] [0.179,0.036,0.   ,0.786]\n",
            "   29                  2                  3 [0.207,0.034,0.759] [0.172,0.034,0.   ,0.793]\n",
            "   30                  2                  3 [0.2  ,0.033,0.767] [0.167,0.033,0.   ,0.8  ]\n",
            "   31                  2                  3 [0.194,0.032,0.774] [0.161,0.032,0.   ,0.806]\n",
            "   32                  2                  3 [0.188,0.031,0.781] [0.156,0.031,0.   ,0.812]\n",
            "   33                  2                  3 [0.182,0.03 ,0.788] [0.152,0.03 ,0.   ,0.818]\n",
            "   34                  2                  3 [0.176,0.029,0.794] [0.147,0.029,0.   ,0.824]\n",
            "   35                  2                  3 [0.171,0.029,0.8  ] [0.143,0.029,0.   ,0.829]\n",
            "   36                  2                  3 [0.167,0.028,0.806] [0.139,0.028,0.   ,0.833]\n",
            "   37                  2                  3 [0.162,0.027,0.811] [0.135,0.027,0.   ,0.838]\n",
            "   38                  2                  3 [0.158,0.026,0.816] [0.132,0.026,0.   ,0.842]\n",
            "   39                  2                  3 [0.154,0.026,0.821] [0.128,0.026,0.   ,0.846]\n",
            "   40                  2                  3 [0.15 ,0.025,0.825] [0.125,0.025,0.   ,0.85 ]\n",
            "   41                  2                  3 [0.146,0.024,0.829] [0.122,0.024,0.   ,0.854]\n",
            "   42                  2                  3 [0.143,0.024,0.833] [0.119,0.024,0.   ,0.857]\n",
            "   43                  2                  3 [0.14 ,0.023,0.837] [0.116,0.023,0.   ,0.86 ]\n",
            "   44                  2                  3 [0.136,0.023,0.841] [0.114,0.023,0.   ,0.864]\n",
            "   45                  2                  3 [0.133,0.022,0.844] [0.111,0.022,0.   ,0.867]\n",
            "   46                  2                  3 [0.13 ,0.022,0.848] [0.109,0.022,0.   ,0.87 ]\n",
            "   47                  2                  3 [0.128,0.021,0.851] [0.106,0.021,0.   ,0.872]\n",
            "   48                  2                  3 [0.125,0.021,0.854] [0.104,0.021,0.   ,0.875]\n",
            "   49                  2                  3 [0.122,0.02 ,0.857] [0.102,0.02 ,0.   ,0.878]\n",
            "   50                  2                  3    [0.12,0.02,0.86]     [0.1 ,0.02,0.  ,0.88]\n",
            "  951                  2                  3 [0.006,0.001,0.993] [0.005,0.001,0.   ,0.994]\n",
            "  952                  2                  3 [0.006,0.001,0.993] [0.005,0.001,0.   ,0.994]\n",
            "  953                  2                  3 [0.006,0.001,0.993] [0.005,0.001,0.   ,0.994]\n",
            "  954                  2                  3 [0.006,0.001,0.993] [0.005,0.001,0.   ,0.994]\n",
            "  955                  2                  3 [0.006,0.001,0.993] [0.005,0.001,0.   ,0.994]\n",
            "  956                  2                  3 [0.006,0.001,0.993] [0.005,0.001,0.   ,0.994]\n",
            "  957                  2                  3 [0.006,0.001,0.993] [0.005,0.001,0.   ,0.994]\n",
            "  958                  2                  3 [0.006,0.001,0.993] [0.005,0.001,0.   ,0.994]\n",
            "  959                  2                  3 [0.006,0.001,0.993] [0.005,0.001,0.   ,0.994]\n",
            "  960                  2                  3 [0.006,0.001,0.993] [0.005,0.001,0.   ,0.994]\n",
            "  961                  2                  3 [0.006,0.001,0.993] [0.005,0.001,0.   ,0.994]\n",
            "  962                  2                  3 [0.006,0.001,0.993] [0.005,0.001,0.   ,0.994]\n",
            "  963                  2                  3 [0.006,0.001,0.993] [0.005,0.001,0.   ,0.994]\n",
            "  964                  2                  3 [0.006,0.001,0.993] [0.005,0.001,0.   ,0.994]\n",
            "  965                  2                  3 [0.006,0.001,0.993] [0.005,0.001,0.   ,0.994]\n",
            "  966                  2                  3 [0.006,0.001,0.993] [0.005,0.001,0.   ,0.994]\n",
            "  967                  2                  3 [0.006,0.001,0.993] [0.005,0.001,0.   ,0.994]\n",
            "  968                  2                  3 [0.006,0.001,0.993] [0.005,0.001,0.   ,0.994]\n",
            "  969                  2                  3 [0.006,0.001,0.993] [0.005,0.001,0.   ,0.994]\n",
            "  970                  2                  3 [0.006,0.001,0.993] [0.005,0.001,0.   ,0.994]\n",
            "  971                  2                  3 [0.006,0.001,0.993] [0.005,0.001,0.   ,0.994]\n",
            "  972                  2                  3 [0.006,0.001,0.993] [0.005,0.001,0.   ,0.994]\n",
            "  973                  2                  3 [0.006,0.001,0.993] [0.005,0.001,0.   ,0.994]\n",
            "  974                  2                  3 [0.006,0.001,0.993] [0.005,0.001,0.   ,0.994]\n",
            "  975                  2                  3 [0.006,0.001,0.993] [0.005,0.001,0.   ,0.994]\n",
            "  976                  2                  3 [0.006,0.001,0.993] [0.005,0.001,0.   ,0.994]\n",
            "  977                  2                  3 [0.006,0.001,0.993] [0.005,0.001,0.   ,0.994]\n",
            "  978                  2                  3 [0.006,0.001,0.993] [0.005,0.001,0.   ,0.994]\n",
            "  979                  2                  3 [0.006,0.001,0.993] [0.005,0.001,0.   ,0.994]\n",
            "  980                  2                  3 [0.006,0.001,0.993] [0.005,0.001,0.   ,0.994]\n",
            "  981                  2                  3 [0.006,0.001,0.993] [0.005,0.001,0.   ,0.994]\n",
            "  982                  2                  3 [0.006,0.001,0.993] [0.005,0.001,0.   ,0.994]\n",
            "  983                  2                  3 [0.006,0.001,0.993] [0.005,0.001,0.   ,0.994]\n",
            "  984                  2                  3 [0.006,0.001,0.993] [0.005,0.001,0.   ,0.994]\n",
            "  985                  2                  3 [0.006,0.001,0.993] [0.005,0.001,0.   ,0.994]\n",
            "  986                  2                  3 [0.006,0.001,0.993] [0.005,0.001,0.   ,0.994]\n",
            "  987                  2                  3 [0.006,0.001,0.993] [0.005,0.001,0.   ,0.994]\n",
            "  988                  2                  3 [0.006,0.001,0.993] [0.005,0.001,0.   ,0.994]\n",
            "  989                  2                  3 [0.006,0.001,0.993] [0.005,0.001,0.   ,0.994]\n",
            "  990                  2                  3 [0.006,0.001,0.993] [0.005,0.001,0.   ,0.994]\n",
            "  991                  2                  3 [0.006,0.001,0.993] [0.005,0.001,0.   ,0.994]\n",
            "  992                  2                  3 [0.006,0.001,0.993] [0.005,0.001,0.   ,0.994]\n",
            "  993                  2                  3 [0.006,0.001,0.993] [0.005,0.001,0.   ,0.994]\n",
            "  994                  2                  3 [0.006,0.001,0.993] [0.005,0.001,0.   ,0.994]\n",
            "  995                  2                  3 [0.006,0.001,0.993] [0.005,0.001,0.   ,0.994]\n",
            "  996                  2                  3 [0.006,0.001,0.993] [0.005,0.001,0.   ,0.994]\n",
            "  997                  2                  3 [0.006,0.001,0.993] [0.005,0.001,0.   ,0.994]\n",
            "  998                  2                  3 [0.006,0.001,0.993] [0.005,0.001,0.   ,0.994]\n",
            "  999                  2                  3 [0.006,0.001,0.993] [0.005,0.001,0.   ,0.994]\n",
            " 1000                  2                  3 [0.006,0.001,0.993] [0.005,0.001,0.   ,0.994]\n"
          ]
        }
      ]
    },
    {
      "cell_type": "code",
      "source": [],
      "metadata": {
        "id": "vr1a_qdgEyVx"
      },
      "execution_count": null,
      "outputs": []
    }
  ]
}