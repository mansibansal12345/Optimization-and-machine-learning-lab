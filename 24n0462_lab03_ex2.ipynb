{
  "cells": [
    {
      "cell_type": "markdown",
      "metadata": {
        "id": "KykXUHTS172Q"
      },
      "source": [
        "The codes below are taking a lot of time to run. Howver, limiting the number of iterations takes a comparitively lesser time."
      ]
    },
    {
      "cell_type": "markdown",
      "metadata": {
        "id": "8ZvfH5HyVu_X"
      },
      "source": [
        "# 2.2"
      ]
    },
    {
      "cell_type": "markdown",
      "source": [
        "For 10 iterations"
      ],
      "metadata": {
        "id": "eYnvZr9-Voee"
      }
    },
    {
      "cell_type": "code",
      "execution_count": null,
      "metadata": {
        "colab": {
          "base_uri": "https://localhost:8080/"
        },
        "id": "90_Zr40oMsMH",
        "outputId": "4aec1782-8542-435d-aa9d-bfd61a81d539"
      },
      "outputs": [
        {
          "name": "stdout",
          "output_type": "stream",
          "text": [
            "n\t\tMinimizer\t\tMin Value\t\tIterations\t\tTime (s)\n",
            "----------------------------------------------------------------------------------------------------\n",
            "1000\t\t1.039702\t\t5.587028e-01\t\t10\t\t\t1.2842\n",
            "2500\t\t1.040361\t\t1.107188e+00\t\t10\t\t\t8.0129\n",
            "5000\t\t1.054402\t\t2.263876e+00\t\t10\t\t\t41.1593\n",
            "7500\t\t1.028442\t\t2.845046e+00\t\t10\t\t\t128.7559\n",
            "10000\t\t1.008060\t\t2.219115e+00\t\t10\t\t\t270.0316\n"
          ]
        }
      ],
      "source": [
        "import numpy as np\n",
        "import time\n",
        "\n",
        "def f(x):\n",
        "    n = len(x)\n",
        "    return sum(4*(x[i]**2 - x[i+1])**2 + (x[i] - 1)**2 for i in range(n-1))\n",
        "\n",
        "def gradient_f(x):\n",
        "    n = len(x)\n",
        "    grad = np.zeros_like(x)\n",
        "\n",
        "    grad[0] = 8*(x[0]**2 - x[1])*x[0] + 2*(x[0] - 1)\n",
        "\n",
        "    for i in range(1, n-1):\n",
        "        grad[i] = 8*(x[i]**2 - x[i+1])*x[i] + 2*(x[i] - 1) - 8*(x[i-1]**2 - x[i])*x[i-1]\n",
        "\n",
        "    grad[n-1] = -8*(x[n-2]**2 - x[n-1])*x[n-2] + 2*(x[n-1] - 1)\n",
        "\n",
        "    return grad\n",
        "\n",
        "def backtracking_line_search(f, grad, x, p, alpha_0=0.9, rho=0.5, c=0.5):\n",
        "    alpha = alpha_0\n",
        "    while f(x + alpha * p) > f(x) + c * alpha * np.dot(grad, p):\n",
        "        alpha *= rho\n",
        "    return alpha\n",
        "\n",
        "def bfgs_method(n, max_iter=10, tol=1e-3):\n",
        "    x = np.zeros(n)\n",
        "    B = np.eye(n)\n",
        "\n",
        "    for k in range(max_iter):\n",
        "        grad = gradient_f(x)\n",
        "\n",
        "        if np.linalg.norm(grad) <= tol:\n",
        "            break\n",
        "\n",
        "        p = -np.linalg.solve(B, grad)\n",
        "\n",
        "        alpha = backtracking_line_search(f, grad, x, p)\n",
        "\n",
        "        x_new = x + alpha * p\n",
        "        s = x_new - x\n",
        "        y = gradient_f(x_new) - grad\n",
        "\n",
        "        if np.dot(y, s) > 1e-10:\n",
        "            rho = 1.0 / np.dot(y, s)\n",
        "            B = B - rho * np.outer(s, y.T @ B) - rho * np.outer(B @ y, s.T) + rho * (1 + rho * np.dot(y.T @ B, y)) * np.outer(s, s)\n",
        "\n",
        "        x = x_new\n",
        "\n",
        "    return x, f(x), k+1\n",
        "\n",
        "def main():\n",
        "    sizes = [1000, 2500, 5000, 7500, 10000]\n",
        "\n",
        "    print(\"n\\t\\tMinimizer\\t\\tMin Value\\t\\tIterations\\t\\tTime (s)\")\n",
        "    print(\"-\" * 100)\n",
        "\n",
        "    for n in sizes:\n",
        "        start_time = time.time()\n",
        "        minimizer, min_value, iterations = bfgs_method(n)\n",
        "        end_time = time.time()\n",
        "\n",
        "        print(f\"{n}\\t\\t{minimizer[0]:.6f}\\t\\t{min_value:.6e}\\t\\t{iterations}\\t\\t\\t{end_time-start_time:.4f}\")\n",
        "\n",
        "if __name__ == \"__main__\":\n",
        "    main()"
      ]
    },
    {
      "cell_type": "markdown",
      "metadata": {
        "id": "PLiEZdXNVxRb"
      },
      "source": [
        "# 2.3"
      ]
    },
    {
      "cell_type": "markdown",
      "source": [
        "For 10 iterations"
      ],
      "metadata": {
        "id": "WM3YfB39UgRf"
      }
    },
    {
      "cell_type": "code",
      "source": [
        "import numpy as np\n",
        "import time\n",
        "import scipy.linalg as la\n",
        "\n",
        "def f(x):\n",
        "    n = len(x)\n",
        "    return sum(4*(x[i]**2 - x[i+1])**2 + (x[i] - 1)**2 for i in range(n-1))\n",
        "\n",
        "def grad_f(x):\n",
        "    n = len(x)\n",
        "    g = np.zeros_like(x)\n",
        "\n",
        "    g[0] = 8*(x[0]**2 - x[1])*x[0] + 2*(x[0] - 1)\n",
        "\n",
        "    for i in range(1, n-1):\n",
        "        g[i] = 8*(x[i]**2 - x[i+1])*x[i] + 2*(x[i] - 1) - 8*(x[i-1]**2 - x[i])*x[i-1]\n",
        "\n",
        "    g[n-1] = -8*(x[n-2]**2 - x[n-1])*x[n-2] + 2*(x[n-1] - 1)\n",
        "\n",
        "    return g\n",
        "\n",
        "def hess_f(x):\n",
        "    n = len(x)\n",
        "    H = np.zeros((n, n))\n",
        "\n",
        "    # Diagonal and adjacent diagonal elements\n",
        "    for i in range(n-1):\n",
        "        # Diagonal elements\n",
        "        if i == 0:\n",
        "            H[i,i] = 8*(3*x[0]**2 - x[1]) + 2\n",
        "            H[i,i+1] = H[i+1,i] = -8*x[0]*x[1]\n",
        "        elif i == n-2:\n",
        "            H[i,i] = 8*(3*x[i]**2 - x[i+1]) + 2 - 8*(x[i-1]**2 - x[i])\n",
        "            H[i,i+1] = H[i+1,i] = -8*x[i]*x[i+1]\n",
        "        else:\n",
        "            H[i,i] = 8*(3*x[i]**2 - x[i+1]) + 2 - 8*(x[i-1]**2 - x[i])\n",
        "            H[i,i+1] = H[i+1,i] = -8*x[i]*x[i+1]\n",
        "\n",
        "    # Last diagonal element\n",
        "    H[n-1,n-1] = -8*(x[n-2]**2 - x[n-1]) + 2\n",
        "\n",
        "    return H\n",
        "\n",
        "def line_search(f, g, x, p, a0=0.9, rho=0.5, c=0.5):\n",
        "    a = a0\n",
        "    while f(x + a*p) > f(x) + c*a*np.dot(g, p):\n",
        "        a *= rho\n",
        "    return a\n",
        "\n",
        "def newton_method(n, max_iter=10, tol=1e-5):\n",
        "    x = np.zeros(n)\n",
        "\n",
        "    for k in range(max_iter):\n",
        "        g = grad_f(x)\n",
        "\n",
        "        if np.linalg.norm(g) <= tol:\n",
        "            break\n",
        "\n",
        "        H = hess_f(x)\n",
        "\n",
        "        try:\n",
        "            p = -la.solve(H, g, assume_a='sym')\n",
        "        except:\n",
        "            p = -g  # Fallback to steepest descent\n",
        "\n",
        "        a = line_search(f, g, x, p)\n",
        "        x += a * p\n",
        "\n",
        "    return x, f(x), k+1\n",
        "\n",
        "def main():\n",
        "    sizes = [1000, 2500, 5000, 7500, 10000]\n",
        "\n",
        "    print(\"n\\t\\tMinimizer\\t\\tMin Value\\t\\tIterations\\t\\tTime (s)\")\n",
        "    print(\"-\" * 100)\n",
        "\n",
        "    for n in sizes:\n",
        "        start = time.time()\n",
        "        minimizer, min_val, iters = newton_method(n)\n",
        "        end = time.time()\n",
        "\n",
        "        print(f\"{n}\\t\\t{minimizer[0]:.6f}\\t\\t{min_val:.6e}\\t\\t{iters}\\t\\t\\t{end-start:.4f}\")\n",
        "\n",
        "if __name__ == \"__main__\":\n",
        "    main()"
      ],
      "metadata": {
        "colab": {
          "base_uri": "https://localhost:8080/"
        },
        "outputId": "9b10e9fd-d22f-49e5-c780-442cb5d01f36",
        "id": "-CI6QAqHaoiD"
      },
      "execution_count": null,
      "outputs": [
        {
          "metadata": {
            "tags": null
          },
          "name": "stdout",
          "output_type": "stream",
          "text": [
            "n\t\tMinimizer\t\tMin Value\t\tIterations\t\tTime (s)\n",
            "----------------------------------------------------------------------------------------------------\n",
            "1000\t\t1.000027\t\t2.304965e-01\t\t10\t\t\t1.2361\n",
            "2500\t\t1.000027\t\t2.304965e-01\t\t10\t\t\t15.5564\n",
            "5000\t\t1.000027\t\t2.304965e-01\t\t10\t\t\t151.1175\n",
            "7500\t\t1.000027\t\t2.304965e-01\t\t10\t\t\t849.7382\n"
          ]
        }
      ]
    },
    {
      "cell_type": "markdown",
      "source": [
        "For 50 iterations"
      ],
      "metadata": {
        "id": "uiDH2hb6UcOZ"
      }
    },
    {
      "cell_type": "code",
      "execution_count": null,
      "metadata": {
        "colab": {
          "base_uri": "https://localhost:8080/"
        },
        "id": "ejma6i5YV1Dc",
        "outputId": "16874d60-c786-447e-b88e-f088221fa2b3"
      },
      "outputs": [
        {
          "metadata": {
            "tags": null
          },
          "name": "stdout",
          "output_type": "stream",
          "text": [
            "n\t\tMinimizer\t\tMin Value\t\tIterations\t\tTime (s)\n",
            "----------------------------------------------------------------------------------------------------\n",
            "1000\t\t1.000000\t\t3.845030e+00\t\t50\t\t\t6.2834\n",
            "2500\t\t1.000000\t\t3.845030e+00\t\t50\t\t\t73.1378\n",
            "5000\t\t1.000000\t\t3.845030e+00\t\t50\t\t\t733.7624\n"
          ]
        }
      ],
      "source": [
        "import numpy as np\n",
        "import time\n",
        "import scipy.linalg as la\n",
        "\n",
        "def f(x):\n",
        "    n = len(x)\n",
        "    return sum(4*(x[i]**2 - x[i+1])**2 + (x[i] - 1)**2 for i in range(n-1))\n",
        "\n",
        "def grad_f(x):\n",
        "    n = len(x)\n",
        "    g = np.zeros_like(x)\n",
        "\n",
        "    g[0] = 8*(x[0]**2 - x[1])*x[0] + 2*(x[0] - 1)\n",
        "\n",
        "    for i in range(1, n-1):\n",
        "        g[i] = 8*(x[i]**2 - x[i+1])*x[i] + 2*(x[i] - 1) - 8*(x[i-1]**2 - x[i])*x[i-1]\n",
        "\n",
        "    g[n-1] = -8*(x[n-2]**2 - x[n-1])*x[n-2] + 2*(x[n-1] - 1)\n",
        "\n",
        "    return g\n",
        "\n",
        "def hess_f(x):\n",
        "    n = len(x)\n",
        "    H = np.zeros((n, n))\n",
        "\n",
        "    # Diagonal and adjacent diagonal elements\n",
        "    for i in range(n-1):\n",
        "        # Diagonal elements\n",
        "        if i == 0:\n",
        "            H[i,i] = 8*(3*x[0]**2 - x[1]) + 2\n",
        "            H[i,i+1] = H[i+1,i] = -8*x[0]*x[1]\n",
        "        elif i == n-2:\n",
        "            H[i,i] = 8*(3*x[i]**2 - x[i+1]) + 2 - 8*(x[i-1]**2 - x[i])\n",
        "            H[i,i+1] = H[i+1,i] = -8*x[i]*x[i+1]\n",
        "        else:\n",
        "            H[i,i] = 8*(3*x[i]**2 - x[i+1]) + 2 - 8*(x[i-1]**2 - x[i])\n",
        "            H[i,i+1] = H[i+1,i] = -8*x[i]*x[i+1]\n",
        "\n",
        "    # Last diagonal element\n",
        "    H[n-1,n-1] = -8*(x[n-2]**2 - x[n-1]) + 2\n",
        "\n",
        "    return H\n",
        "\n",
        "def line_search(f, g, x, p, a0=0.9, rho=0.5, c=0.5):\n",
        "    a = a0\n",
        "    while f(x + a*p) > f(x) + c*a*np.dot(g, p):\n",
        "        a *= rho\n",
        "    return a\n",
        "\n",
        "def newton_method(n, max_iter=50, tol=1e-5):\n",
        "    x = np.zeros(n)\n",
        "\n",
        "    for k in range(max_iter):\n",
        "        g = grad_f(x)\n",
        "\n",
        "        if np.linalg.norm(g) <= tol:\n",
        "            break\n",
        "\n",
        "        H = hess_f(x)\n",
        "\n",
        "        try:\n",
        "            p = -la.solve(H, g, assume_a='sym')\n",
        "        except:\n",
        "            p = -g  # Fallback to steepest descent\n",
        "\n",
        "        a = line_search(f, g, x, p)\n",
        "        x += a * p\n",
        "\n",
        "    return x, f(x), k+1\n",
        "\n",
        "def main():\n",
        "    sizes = [1000, 2500, 5000, 7500, 10000]\n",
        "\n",
        "    print(\"n\\t\\tMinimizer\\t\\tMin Value\\t\\tIterations\\t\\tTime (s)\")\n",
        "    print(\"-\" * 100)\n",
        "\n",
        "    for n in sizes:\n",
        "        start = time.time()\n",
        "        minimizer, min_val, iters = newton_method(n)\n",
        "        end = time.time()\n",
        "\n",
        "        print(f\"{n}\\t\\t{minimizer[0]:.6f}\\t\\t{min_val:.6e}\\t\\t{iters}\\t\\t\\t{end-start:.4f}\")\n",
        "\n",
        "if __name__ == \"__main__\":\n",
        "    main()"
      ]
    },
    {
      "cell_type": "code",
      "source": [],
      "metadata": {
        "id": "X0UbRnKTUia_"
      },
      "execution_count": null,
      "outputs": []
    },
    {
      "cell_type": "markdown",
      "metadata": {
        "id": "tCsYNg2JV18H"
      },
      "source": [
        "# 2.4"
      ]
    },
    {
      "cell_type": "markdown",
      "source": [
        "taking too much time to give output, running for long time disconnects the runtime in between.\n",
        "this is for 10 iterations"
      ],
      "metadata": {
        "id": "ozpl7M3jaP0T"
      }
    },
    {
      "cell_type": "code",
      "execution_count": null,
      "metadata": {
        "colab": {
          "background_save": true,
          "base_uri": "https://localhost:8080/"
        },
        "id": "cT1ss5wvX_AH",
        "outputId": "c4bb8312-f153-4bb5-c891-06a232cd090b"
      },
      "outputs": [
        {
          "name": "stdout",
          "output_type": "stream",
          "text": [
            "n\t\tSteepest Descent\t\tBFGS\n",
            "--------------------------------------------------\n",
            "1000\t\t0.3178 s\t\t2.6478 s\n",
            "2500\t\t1.6535 s\t\t20.5409 s\n",
            "5000\t\t1.6900 s\t\t51.5527 s\n",
            "7500\t\t1.0058 s\t\t136.6590 s\n",
            "10000\t\t1.3294 s\t\t299.8345 s\n"
          ]
        },
        {
          "data": {
            "image/png": "[encoded data removed]",
            "text/plain": [
              "<Figure size 1000x600 with 1 Axes>"
            ]
          },
          "metadata": {},
          "output_type": "display_data"
        }
      ],
      "source": [
        "import numpy as np\n",
        "import time\n",
        "import matplotlib.pyplot as plt\n",
        "\n",
        "def f(x):\n",
        "    n = len(x)\n",
        "    return sum(4*(x[i]**2 - x[i+1])**2 + (x[i] - 1)**2 for i in range(n-1))\n",
        "\n",
        "def gradient_f(x):\n",
        "    n = len(x)\n",
        "    grad = np.zeros_like(x)\n",
        "\n",
        "    grad[0] = 8*(x[0]**2 - x[1])*x[0] + 2*(x[0] - 1)\n",
        "\n",
        "    for i in range(1, n-1):\n",
        "        grad[i] = 8*(x[i]**2 - x[i+1])*x[i] + 2*(x[i] - 1) - 8*(x[i-1]**2 - x[i])*x[i-1]\n",
        "\n",
        "    grad[n-1] = -8*(x[n-2]**2 - x[n-1])*x[n-2] + 2*(x[n-1] - 1)\n",
        "\n",
        "    return grad\n",
        "\n",
        "def backtracking_line_search(f, grad, x, p, alpha_0=0.9, rho=0.5, c=0.5):\n",
        "    alpha = alpha_0\n",
        "    while f(x + alpha * p) > f(x) + c * alpha * np.dot(grad, p):\n",
        "        alpha *= rho\n",
        "    return alpha\n",
        "\n",
        "def steepest_descent(n, max_iter=10, tol=1e-3):\n",
        "    x = np.zeros(n)\n",
        "\n",
        "    for k in range(max_iter):\n",
        "        grad = gradient_f(x)\n",
        "\n",
        "        if np.linalg.norm(grad) <= tol:\n",
        "            break\n",
        "\n",
        "        p = -grad\n",
        "        alpha = backtracking_line_search(f, grad, x, p)\n",
        "        x += alpha * p\n",
        "\n",
        "    return x, f(x), k+1\n",
        "\n",
        "def bfgs_method(n, max_iter=10, tol=1e-3):\n",
        "    x = np.zeros(n)\n",
        "    B = np.eye(n)\n",
        "\n",
        "    for k in range(max_iter):\n",
        "        grad = gradient_f(x)\n",
        "\n",
        "        if np.linalg.norm(grad) <= tol:\n",
        "            break\n",
        "\n",
        "        p = -np.linalg.solve(B, grad)\n",
        "\n",
        "        alpha = backtracking_line_search(f, grad, x, p)\n",
        "\n",
        "        x_new = x + alpha * p\n",
        "        s = x_new - x\n",
        "        y = gradient_f(x_new) - grad\n",
        "\n",
        "        if np.dot(y, s) > 1e-10:\n",
        "            rho = 1.0 / np.dot(y, s)\n",
        "            B = B - rho * np.outer(s, y.T @ B) - rho * np.outer(B @ y, s.T) + rho * (1 + rho * np.dot(y.T @ B, y)) * np.outer(s, s)\n",
        "\n",
        "        x = x_new\n",
        "\n",
        "    return x, f(x), k+1\n",
        "\n",
        "def compare_methods():\n",
        "    sizes = [1000, 2500, 5000, 7500, 10000]\n",
        "    sd_times, bfgs_times = [], []\n",
        "\n",
        "    print(\"n\\t\\tSteepest Descent\\t\\tBFGS\")\n",
        "    print(\"-\" * 50)\n",
        "\n",
        "    for n in sizes:\n",
        "        # Steepest Descent\n",
        "        start = time.time()\n",
        "        sd_result = steepest_descent(n)\n",
        "        sd_time = time.time() - start\n",
        "        sd_times.append(sd_time)\n",
        "\n",
        "        # BFGS\n",
        "        start = time.time()\n",
        "        bfgs_result = bfgs_method(n)\n",
        "        bfgs_time = time.time() - start\n",
        "        bfgs_times.append(bfgs_time)\n",
        "\n",
        "        print(f\"{n}\\t\\t{sd_time:.4f} s\\t\\t{bfgs_time:.4f} s\")\n",
        "\n",
        "    # Plotting\n",
        "    plt.figure(figsize=(10,6))\n",
        "    plt.plot(sizes, sd_times, 'b-o', label='Steepest Descent')\n",
        "    plt.plot(sizes, bfgs_times, 'r-o', label='BFGS')\n",
        "    plt.xlabel('Problem Size (n)')\n",
        "    plt.ylabel('Computation Time (s)')\n",
        "    plt.title('Optimization Methods: Computation Time Comparison')\n",
        "    plt.legend()\n",
        "    plt.grid(True)\n",
        "    plt.tight_layout()\n",
        "    plt.show()\n",
        "\n",
        "# Run the comparison\n",
        "compare_methods()"
      ]
    }
  ],
  "metadata": {
    "accelerator": "TPU",
    "colab": {
      "gpuType": "V28",
      "provenance": []
    },
    "kernelspec": {
      "display_name": "Python 3",
      "name": "python3"
    },
    "language_info": {
      "name": "python"
    }
  },
  "nbformat": 4,
  "nbformat_minor": 0
}