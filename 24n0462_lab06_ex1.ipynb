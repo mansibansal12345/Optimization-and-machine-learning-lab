{
 "cells": [
  {
   "cell_type": "code",
   "execution_count": 1,
   "metadata": {},
   "outputs": [
    {
     "name": "stdout",
     "output_type": "stream",
     "text": [
      "Collecting pulp\n",
      "  Using cached PuLP-2.9.0-py3-none-any.whl.metadata (5.4 kB)\n",
      "Using cached PuLP-2.9.0-py3-none-any.whl (17.7 MB)\n",
      "Installing collected packages: pulp\n",
      "Successfully installed pulp-2.9.0\n",
      "Note: you may need to restart the kernel to use updated packages.\n"
     ]
    },
    {
     "name": "stderr",
     "output_type": "stream",
     "text": [
      "\n",
      "[notice] A new release of pip is available: 24.3.1 -> 25.0.1\n",
      "[notice] To update, run: C:\\Users\\BANSAL\\AppData\\Local\\Microsoft\\WindowsApps\\PythonSoftwareFoundation.Python.3.11_qbz5n2kfra8p0\\python.exe -m pip install --upgrade pip\n"
     ]
    }
   ],
   "source": [
    "pip install --trusted-host pypi.org --trusted-host pypi.python.org --trusted-host=files.pythonhosted.org pulp"
   ]
  },
  {
   "cell_type": "code",
   "execution_count": 5,
   "metadata": {},
   "outputs": [
    {
     "name": "stdout",
     "output_type": "stream",
     "text": [
      "Plant     Production (10,000 units)\n",
      "1         12.0                     \n",
      "2         9.0                      \n",
      "3         9.4                      \n",
      "\n",
      "From Plant  To DC   Transported (10,000 units)\n",
      "1           1       0.7                      \n",
      "1           3       4.0                      \n",
      "1           8       1.5                      \n",
      "1           9       1.8                      \n",
      "1           12      4.0                      \n",
      "2           1       1.3                      \n",
      "2           4       3.5                      \n",
      "2           10      1.2                      \n",
      "2           11      3.0                      \n",
      "3           2       3.0                      \n",
      "3           5       1.5                      \n",
      "3           6       1.9                      \n",
      "3           7       2.5                      \n",
      "3           8       0.5                      \n",
      "\n",
      "Max Profit: 3,065,200.00 Rupees\n"
     ]
    }
   ],
   "source": [
    "from pulp import LpMaximize, LpProblem, LpVariable, lpSum\n",
    "\n",
    "plants = [1, 2, 3]\n",
    "dcs = list(range(1, 13))\n",
    "\n",
    "cap = {1: 12, 2: 9, 3: 10}\n",
    "prod_cost = {1: 8, 2: 7, 3: 9}\n",
    "\n",
    "demand = {1: 2, 2: 3, 3: 4, 4: 3.5, 5: 1.5, 6: 1.9, 7: 2.5, 8: 2, 9: 1.8, 10: 1.2, 11: 3, 12: 4}\n",
    "\n",
    "trans_cost = {\n",
    "    1: {1: 2, 2: 3, 3: 2, 4: 3, 5: 5, 6: 4.4, 7: 3.2, 8: 3, 9: 1.5, 10: 3, 11: 6.0, 12: 1.0},\n",
    "    2: {1: 1.9, 2: 3, 3: 2.4, 4: 2.4, 5: 2, 6: 4.1, 7: 2.8, 8: 3, 9: 1.7, 10: 2, 11: 1.0, 12: 4.5},\n",
    "    3: {1: 3.1, 2: 1.8, 3: 2.8, 4: 3.4, 5: 2, 6: 2.9, 7: 2.2, 8: 3.2, 9: 2, 10: 2.8, 11: 4.5, 12: 6.0}\n",
    "}\n",
    "\n",
    "model = LpProblem(name=\"Maximize_Profit\", sense=LpMaximize)\n",
    "\n",
    "x = {i: LpVariable(f\"x{i}\", lowBound=0) for i in plants}\n",
    "y = {(i, j): LpVariable(f\"y{i}_{j}\", lowBound=0) for i in plants for j in dcs}\n",
    "\n",
    "model += lpSum((20 - trans_cost[i][j]) * y[i, j] * 10000 for i in plants for j in dcs) - lpSum(prod_cost[i] * x[i] * 10000 for i in plants)\n",
    "\n",
    "for i in plants:\n",
    "    model += x[i] <= cap[i]\n",
    "\n",
    "for i in plants:\n",
    "    model += lpSum(y[i, j] for j in dcs) <= x[i]\n",
    "\n",
    "for j in dcs:\n",
    "    model += lpSum(y[i, j] for i in plants) == demand[j]\n",
    "\n",
    "model.solve()\n",
    "\n",
    "print(f\"{'Plant':<10}{'Production (10,000 units)':<25}\")\n",
    "for i in plants:\n",
    "    print(f\"{i:<10}{x[i].varValue:<25}\")\n",
    "\n",
    "print(f\"\\n{'From Plant':<12}{'To DC':<8}{'Transported (10,000 units)':<25}\")\n",
    "for i in plants:\n",
    "    for j in dcs:\n",
    "        if y[i, j].varValue > 0:\n",
    "            print(f\"{i:<12}{j:<8}{y[i, j].varValue:<25}\")\n",
    "\n",
    "print(f\"\\nMax Profit: {model.objective.value():,.2f} Rupees\")\n"
   ]
  }
 ],
 "metadata": {
  "kernelspec": {
   "display_name": "Python 3",
   "language": "python",
   "name": "python3"
  },
  "language_info": {
   "codemirror_mode": {
    "name": "ipython",
    "version": 3
   },
   "file_extension": ".py",
   "mimetype": "text/x-python",
   "name": "python",
   "nbconvert_exporter": "python",
   "pygments_lexer": "ipython3",
   "version": "3.11.9"
  }
 },
 "nbformat": 4,
 "nbformat_minor": 2
}
