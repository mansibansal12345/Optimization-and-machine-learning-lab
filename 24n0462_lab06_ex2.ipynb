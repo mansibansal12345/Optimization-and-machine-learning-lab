{
 "cells": [
  {
   "cell_type": "markdown",
   "metadata": {},
   "source": [
    "Q2(3)"
   ]
  },
  {
   "cell_type": "code",
   "execution_count": 5,
   "metadata": {},
   "outputs": [
    {
     "name": "stdout",
     "output_type": "stream",
     "text": [
      "Collecting numpyNote: you may need to restart the kernel to use updated packages.\n",
      "\n",
      "  Downloading numpy-2.2.2-cp311-cp311-win_amd64.whl.metadata (60 kB)\n",
      "Downloading numpy-2.2.2-cp311-cp311-win_amd64.whl (12.9 MB)\n",
      "   ---------------------------------------- 0.0/12.9 MB ? eta -:--:--\n",
      "   ------- -------------------------------- 2.4/12.9 MB 12.2 MB/s eta 0:00:01\n",
      "   ---------------- ----------------------- 5.2/12.9 MB 13.3 MB/s eta 0:00:01\n",
      "   ------------------------- -------------- 8.4/12.9 MB 13.0 MB/s eta 0:00:01\n",
      "   ----------------------------------- ---- 11.5/12.9 MB 13.4 MB/s eta 0:00:01\n",
      "   ---------------------------------------- 12.9/12.9 MB 13.1 MB/s eta 0:00:00\n",
      "Installing collected packages: numpy\n",
      "Successfully installed numpy-2.2.2\n"
     ]
    },
    {
     "name": "stderr",
     "output_type": "stream",
     "text": [
      "\n",
      "[notice] A new release of pip is available: 24.3.1 -> 25.0.1\n",
      "[notice] To update, run: C:\\Users\\BANSAL\\AppData\\Local\\Microsoft\\WindowsApps\\PythonSoftwareFoundation.Python.3.11_qbz5n2kfra8p0\\python.exe -m pip install --upgrade pip\n"
     ]
    }
   ],
   "source": [
    "pip install numpy"
   ]
  },
  {
   "cell_type": "code",
   "execution_count": 20,
   "metadata": {},
   "outputs": [
    {
     "name": "stdout",
     "output_type": "stream",
     "text": [
      "Total scenarios: 531441\n",
      "Scenarios where demand exceeds capacity: 210724\n",
      "Fraction of scenarios where demand exceeds total capacity: 0.3965\n"
     ]
    }
   ],
   "source": [
    "from itertools import product\n",
    "\n",
    "dcs = list(range(1, 13))\n",
    "demand_base = {1: 20, 2: 30, 3: 40, 4: 35, 5: 15, 6: 19, 7: 25, 8: 20, 9: 18, 10: 12, 11: 30, 12: 40}\n",
    "scenarios = list(product([0.7, 1.0, 1.3], repeat=len(dcs)))\n",
    "\n",
    "capacity = {1: 120, 2: 90, 3: 100}  # Total capacity is sum of all plant capacities\n",
    "total_capacity = sum(capacity.values())\n",
    "\n",
    "exceed_count = 0\n",
    "\n",
    "for scenario in scenarios:\n",
    "    total_demand = sum(demand_base[j] * scenario[j - 1] for j in dcs)\n",
    "    if total_demand > total_capacity:\n",
    "        exceed_count += 1\n",
    "\n",
    "total_scenarios = len(scenarios)\n",
    "fraction_exceeding = exceed_count / total_scenarios\n",
    "\n",
    "print(f\"Total scenarios: {total_scenarios}\")\n",
    "print(f\"Scenarios where demand exceeds capacity: {exceed_count}\")\n",
    "print(f\"Fraction of scenarios where demand exceeds total capacity: {fraction_exceeding:.4f}\")\n"
   ]
  },
  {
   "cell_type": "markdown",
   "metadata": {},
   "source": [
    "Q2(4)"
   ]
  },
  {
   "cell_type": "code",
   "execution_count": 21,
   "metadata": {},
   "outputs": [
    {
     "name": "stdout",
     "output_type": "stream",
     "text": [
      "\n",
      "Optimal Expected Profit: 27783164.61\n",
      "\n",
      "Optimal Production Quantities:\n",
      "Factory 1: 1200000.0 units\n",
      "Factory 2: 900000.0 units\n",
      "Factory 3: 963998.0 units\n",
      "\n",
      "Sample Shipment Plan for Scenario 0:\n",
      "Ship 145000.0 units from Factory 1 to DC 1\n",
      "Ship 280000.0 units from Factory 1 to DC 3\n",
      "Ship 140000.0 units from Factory 1 to DC 8\n",
      "Ship 180000.0 units from Factory 1 to DC 9\n",
      "Ship 400000.0 units from Factory 1 to DC 12\n",
      "Ship 115000.0 units from Factory 2 to DC 1\n",
      "Ship 455000.0 units from Factory 2 to DC 4\n",
      "Ship 120000.0 units from Factory 2 to DC 10\n",
      "Ship 210000.0 units from Factory 2 to DC 11\n",
      "Ship 210000.0 units from Factory 3 to DC 2\n",
      "Ship 105000.0 units from Factory 3 to DC 5\n",
      "Ship 133000.0 units from Factory 3 to DC 6\n",
      "Ship 325000.0 units from Factory 3 to DC 7\n",
      "\n",
      "Sample Unsold for Scenario 0:\n",
      "\n",
      "Sample Lost Sales for Scenario 0:\n"
     ]
    }
   ],
   "source": [
    "import numpy as np\n",
    "from itertools import product\n",
    "from pulp import LpMaximize, LpProblem, LpVariable, lpSum, value\n",
    "\n",
    "factories = [1, 2, 3]\n",
    "dcs = list(range(1, 13))\n",
    "n_scen = 10\n",
    "all_scen = list(product(['low', 'medium', 'high'], repeat=12))\n",
    "sample_indices = np.random.choice(range(len(all_scen)), size=n_scen, replace=False)\n",
    "\n",
    "scen_data = []\n",
    "for idx in sample_indices:\n",
    "    scn = {}\n",
    "    for j in dcs:\n",
    "        r = np.random.rand()\n",
    "        med = {1: 200000, 2: 300000, 3: 400000, 4: 350000, 5: 150000, 6: 190000, \n",
    "               7: 250000, 8: 200000, 9: 180000, 10: 120000, 11: 300000, 12: 400000}[j]\n",
    "        if r < 0.3:\n",
    "            scn[j] = int(0.7 * med)\n",
    "        elif r < 0.7:\n",
    "            scn[j] = med\n",
    "        else:\n",
    "            scn[j] = int(1.3 * med)\n",
    "    scen_data.append(scn)\n",
    "\n",
    "scen_prob = 1.0 / n_scen\n",
    "\n",
    "cap = {1: 1200000, 2: 900000, 3: 1000000}\n",
    "cost_prod = {1: 8, 2: 7, 3: 9}\n",
    "selling_price = 20\n",
    "salvage_val = 5\n",
    "penalty_val = 7\n",
    "ship_cost = {\n",
    "    (1, 1): 2, (1, 2): 3, (1, 3): 2, (1, 4): 3, (1, 5): 5, (1, 6): 4.4, \n",
    "    (1, 7): 3.2, (1, 8): 3, (1, 9): 1.5, (1, 10): 3, (1, 11): 6.0, (1, 12): 1.0,\n",
    "    (2, 1): 1.9, (2, 2): 3, (2, 3): 2.4, (2, 4): 2.4, (2, 5): 2, (2, 6): 4.1, \n",
    "    (2, 7): 2.8, (2, 8): 3, (2, 9): 1.7, (2, 10): 2, (2, 11): 1.0, (2, 12): 4.5,\n",
    "    (3, 1): 3.1, (3, 2): 1.8, (3, 3): 2.8, (3, 4): 3.4, (3, 5): 2, (3, 6): 2.9, \n",
    "    (3, 7): 2.2, (3, 8): 3.2, (3, 9): 2, (3, 10): 2.8, (3, 11): 4.5, (3, 12): 6.0\n",
    "}\n",
    "\n",
    "model = LpProblem(\"Stochastic_Optimization\", LpMaximize)\n",
    "\n",
    "prod = {i: LpVariable(f'prod_{i}', lowBound=0, upBound=cap[i]) for i in factories}\n",
    "ship = {(s, i, j): LpVariable(f'ship_{s}_{i}_{j}', lowBound=0) \n",
    "        for s in range(n_scen) for i in factories for j in dcs}\n",
    "unsold = {(s, i): LpVariable(f'unsold_{s}_{i}', lowBound=0) \n",
    "          for s in range(n_scen) for i in factories}\n",
    "lost = {(s, j): LpVariable(f'lost_{s}_{j}', lowBound=0) \n",
    "        for s in range(n_scen) for j in dcs}\n",
    "\n",
    "model += lpSum(\n",
    "    scen_prob * (\n",
    "        lpSum(selling_price * ship[s, i, j] for i in factories for j in dcs) -\n",
    "        lpSum(cost_prod[i] * prod[i] for i in factories) -\n",
    "        lpSum(ship_cost[i, j] * ship[s, i, j] for i in factories for j in dcs) -\n",
    "        lpSum(salvage_val * unsold[s, i] for i in factories) -\n",
    "        lpSum(penalty_val * lost[s, j] for j in dcs)\n",
    "    ) for s in range(n_scen)\n",
    ")\n",
    "\n",
    "for i in factories:\n",
    "    model += prod[i] <= cap[i]\n",
    "\n",
    "for s in range(n_scen):\n",
    "    for i in factories:\n",
    "        model += lpSum(ship[s, i, j] for j in dcs) + unsold[s, i] <= prod[i]\n",
    "\n",
    "for s in range(n_scen):\n",
    "    for j in dcs:\n",
    "        model += lpSum(ship[s, i, j] for i in factories) + lost[s, j] == scen_data[s][j]\n",
    "\n",
    "model.solve()\n",
    "\n",
    "if model.status == 1:\n",
    "    print(f\"\\nOptimal Expected Profit: {value(model.objective)}\")\n",
    "    print(\"\\nOptimal Production Quantities:\")\n",
    "    for i in factories:\n",
    "        print(f\"Factory {i}: {prod[i].varValue} units\")\n",
    "    \n",
    "    print(\"\\nSample Shipment Plan for Scenario 0:\")\n",
    "    for i in factories:\n",
    "        for j in dcs:\n",
    "            if ship[0, i, j].varValue > 0:\n",
    "                print(f\"Ship {ship[0, i, j].varValue} units from Factory {i} to DC {j}\")\n",
    "\n",
    "    print(\"\\nSample Unsold for Scenario 0:\")\n",
    "    for i in factories:\n",
    "        if unsold[0, i].varValue > 0:\n",
    "            print(f\"Factory {i} unsold: {unsold[0, i].varValue} units\")\n",
    "\n",
    "    print(\"\\nSample Lost Sales for Scenario 0:\")\n",
    "    for j in dcs:\n",
    "        if lost[0, j].varValue > 0:\n",
    "            print(f\"Destination {j} lost sales: {lost[0, j].varValue} units\")\n",
    "else:\n",
    "    print(\"No optimal solution found.\")\n"
   ]
  },
  {
   "cell_type": "markdown",
   "metadata": {},
   "source": [
    "Q2(5)"
   ]
  },
  {
   "cell_type": "markdown",
   "metadata": {},
   "source": [
    "Production Levels:The deterministic model produces a fixed amount based on medium demand levels.\n",
    "The stochastic model adjusts production considering uncertainty, possibly reducing overproduction losses.\n",
    "\n",
    "Profit:The deterministic model achieves a higher theoretical profit.\n",
    "The stochastic model incorporates risk management, leading to a potentially more robust strategy.\n",
    "\n",
    "Flexibility:The stochastic model provides flexibility by accounting for multiple demand scenarios.\n",
    "The deterministic model assumes fixed demand, which may lead to higher losses if demand deviates."
   ]
  },
  {
   "cell_type": "markdown",
   "metadata": {},
   "source": [
    "The values of the two models are as follows:\n",
    "Ques 1: Deterministic LP - \n",
    "Max Profit: 3,065,200.00 Rupees\n",
    "Plant 1: 1200000 units\n",
    "Plant 2: 900000 units\n",
    "Plant 3: 940000 units\n",
    "\n",
    "Ques 2 : Stochastic LP\n",
    "Expected Profit: 27783164.6\n",
    "Optimal Production Quantities:\n",
    "Plant 1: 1200000.0 units\n",
    "Plant 2: 900000.0 units\n",
    "Plant 3: 963998.0 units"
   ]
  },
  {
   "cell_type": "markdown",
   "metadata": {},
   "source": []
  }
 ],
 "metadata": {
  "kernelspec": {
   "display_name": "Python 3",
   "language": "python",
   "name": "python3"
  },
  "language_info": {
   "codemirror_mode": {
    "name": "ipython",
    "version": 3
   },
   "file_extension": ".py",
   "mimetype": "text/x-python",
   "name": "python",
   "nbconvert_exporter": "python",
   "pygments_lexer": "ipython3",
   "version": "3.11.9"
  }
 },
 "nbformat": 4,
 "nbformat_minor": 2
}
