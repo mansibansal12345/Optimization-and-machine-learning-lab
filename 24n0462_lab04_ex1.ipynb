{
  "cells": [
    {
      "cell_type": "markdown",
      "metadata": {
        "id": "-RXWEYOyaxLX"
      },
      "source": [
        "# 1.1"
      ]
    },
    {
      "cell_type": "code",
      "execution_count": 6,
      "metadata": {
        "id": "fPtq57F7f6bu"
      },
      "outputs": [],
      "source": [
        "import pandas as pd\n",
        "import numpy as np\n",
        "df = pd.read_csv(r\"C:\\Users\\dolly\\Downloads\\Closing_Prices_5yrs.csv\")"
      ]
    },
    {
      "cell_type": "code",
      "execution_count": 7,
      "metadata": {
        "colab": {
          "base_uri": "https://localhost:8080/"
        },
        "collapsed": true,
        "id": "xSoMDV5khdeC",
        "outputId": "ec412561-50eb-4186-f69b-5a5b1c74fd0a"
      },
      "outputs": [
        {
          "name": "stdout",
          "output_type": "stream",
          "text": [
            "             Stock  Average_5day_Return\n",
            "0     AXISBANK.csv             0.004155\n",
            "1   BAJAJFINSV.csv             0.006121\n",
            "2   BAJFINANCE.csv             0.007046\n",
            "3   BHARTIARTL.csv             0.007628\n",
            "4      HCLTECH.csv             0.006416\n",
            "5     HDFCBANK.csv             0.002402\n",
            "6   HINDUNILVR.csv             0.001872\n",
            "7    ICICIBANK.csv             0.007338\n",
            "8   INDUSINDBK.csv             0.004424\n",
            "9         INFY.csv             0.004772\n",
            "10         ITC.csv             0.005120\n",
            "11    JSWSTEEL.csv             0.009157\n",
            "12   KOTAKBANK.csv             0.002399\n",
            "13          LT.csv             0.007500\n",
            "14         M&M.csv             0.007578\n",
            "15      MARUTI.csv             0.002922\n",
            "16   NESTLEIND.csv             0.003779\n",
            "17        NTPC.csv             0.007098\n",
            "18   POWERGRID.csv             0.004763\n",
            "19    RELIANCE.csv             0.004596\n",
            "20        SBIN.csv             0.006764\n",
            "21   SUNPHARMA.csv             0.007648\n",
            "22  TATAMOTORS.csv             0.015253\n",
            "23   TATASTEEL.csv             0.006658\n",
            "24         TCS.csv             0.003546\n",
            "25       TECHM.csv             0.004075\n",
            "26       TITAN.csv             0.009067\n",
            "27  ULTRACEMCO.csv             0.006484\n",
            "28       WIPRO.csv             0.003796\n"
          ]
        }
      ],
      "source": [
        "df = df.drop(columns=['Date'], axis=1)\n",
        "df = df.fillna(df.mean())\n",
        "\n",
        "df.iloc[:, :] = df.iloc[:, :].apply(pd.to_numeric, errors='coerce')\n",
        "\n",
        "avg_returns = {}\n",
        "\n",
        "for stock in df.columns[1:]:\n",
        "    stock_prices = df[stock].dropna().values\n",
        "    if len(stock_prices) > 5:\n",
        "        returns = [(stock_prices[i + 5] - stock_prices[i]) / stock_prices[i] for i in range(len(stock_prices) - 5)]\n",
        "        avg_returns[stock] = sum(returns) / len(returns) if returns else 0\n",
        "    else:\n",
        "        avg_returns[stock] = 0\n",
        "\n",
        "result_df = pd.DataFrame(list(avg_returns.items()), columns=[\"Stock\", \"Average_5day_Return\"])\n",
        "\n",
        "print(result_df)\n"
      ]
    },
    {
      "cell_type": "markdown",
      "metadata": {
        "id": "uJ9CycyuftdB"
      },
      "source": [
        "# 1.2"
      ]
    },
    {
      "cell_type": "code",
      "execution_count": 9,
      "metadata": {
        "colab": {
          "base_uri": "https://localhost:8080/"
        },
        "id": "2wucfH7BkmRX",
        "outputId": "786cf514-8016-41ad-ad3d-32c4dab2ecda"
      },
      "outputs": [
        {
          "name": "stdout",
          "output_type": "stream",
          "text": [
            "             Stock   Std_dev\n",
            "0     AXISBANK.csv  0.072994\n",
            "1   BAJAJFINSV.csv  0.065439\n",
            "2   BAJFINANCE.csv  0.082294\n",
            "3   BHARTIARTL.csv  0.069502\n",
            "4      HCLTECH.csv  0.064275\n",
            "5     HDFCBANK.csv  0.047197\n",
            "6   HINDUNILVR.csv  0.036338\n",
            "7    ICICIBANK.csv  0.081470\n",
            "8   INDUSINDBK.csv  0.095183\n",
            "9         INFY.csv  0.057808\n",
            "10         ITC.csv  0.083313\n",
            "11    JSWSTEEL.csv  0.107854\n",
            "12   KOTAKBANK.csv  0.044357\n",
            "13          LT.csv  0.087934\n",
            "14         M&M.csv  0.095288\n",
            "15      MARUTI.csv  0.055659\n",
            "16   NESTLEIND.csv  0.036509\n",
            "17        NTPC.csv  0.083021\n",
            "18   POWERGRID.csv  0.050907\n",
            "19    RELIANCE.csv  0.054156\n",
            "20        SBIN.csv  0.090429\n",
            "21   SUNPHARMA.csv  0.078878\n",
            "22  TATAMOTORS.csv  0.155495\n",
            "23   TATASTEEL.csv  0.070611\n",
            "24         TCS.csv  0.045805\n",
            "25       TECHM.csv  0.062411\n",
            "26       TITAN.csv  0.092246\n",
            "27  ULTRACEMCO.csv  0.067481\n",
            "28       WIPRO.csv  0.059377\n"
          ]
        }
      ],
      "source": [
        "std_returns = {}\n",
        "\n",
        "for stock in df.columns[1:]:\n",
        "    stock_prices = df[stock].dropna().values\n",
        "\n",
        "    if len(stock_prices) > 5:\n",
        "        returns = [(stock_prices[i + 5] - stock_prices[i]) / stock_prices[i] for i in range(len(stock_prices) - 5)]\n",
        "        std_returns[stock] = np.std(returns) if returns else 0\n",
        "    else:\n",
        "        std_returns[stock] = 0\n",
        "std_result_df = pd.DataFrame(list(std_returns.items()), columns=[\"Stock\", \"Std_dev\"])\n",
        "\n",
        "print(std_result_df)\n"
      ]
    },
    {
      "cell_type": "markdown",
      "metadata": {
        "id": "HU3E8-QEh2tf"
      },
      "source": [
        "# 1.3"
      ]
    },
    {
      "cell_type": "code",
      "execution_count": 10,
      "metadata": {
        "colab": {
          "base_uri": "https://localhost:8080/"
        },
        "id": "SU7AfzQr18MD",
        "outputId": "badff89a-5f86-4c98-96e5-1b0b99cd42b3"
      },
      "outputs": [
        {
          "name": "stdout",
          "output_type": "stream",
          "text": [
            "COVAR MATRIX\n",
            "                ASIANPAINT.csv  AXISBANK.csv  BAJAJFINSV.csv  BAJFINANCE.csv  \\\n",
            "ASIANPAINT.csv        0.003446      0.002816        0.002054        0.003455   \n",
            "AXISBANK.csv          0.002816      0.005333        0.003069        0.004725   \n",
            "BAJAJFINSV.csv        0.002054      0.003069        0.004286        0.004075   \n",
            "BAJFINANCE.csv        0.003455      0.004725        0.004075        0.006778   \n",
            "BHARTIARTL.csv        0.002240      0.002936        0.002654        0.002964   \n",
            "HCLTECH.csv           0.002450      0.002945        0.002004        0.003344   \n",
            "HDFCBANK.csv          0.001784      0.002605        0.002009        0.002900   \n",
            "HINDUNILVR.csv        0.001282      0.001221        0.001059        0.001357   \n",
            "ICICIBANK.csv         0.003635      0.005241        0.003590        0.005552   \n",
            "INDUSINDBK.csv        0.003195      0.005678        0.003547        0.005798   \n",
            "INFY.csv              0.001863      0.002193        0.001177        0.002793   \n",
            "ITC.csv               0.003227      0.003983        0.003283        0.004119   \n",
            "JSWSTEEL.csv          0.004546      0.005988        0.003624        0.006887   \n",
            "KOTAKBANK.csv         0.001399      0.001971        0.001522        0.002389   \n",
            "LT.csv                0.003586      0.005168        0.003760        0.005333   \n",
            "M&M.csv               0.003852      0.005246        0.003960        0.005552   \n",
            "MARUTI.csv            0.002254      0.002872        0.002071        0.003015   \n",
            "NESTLEIND.csv         0.000671      0.000932        0.000792        0.000740   \n",
            "NTPC.csv              0.002803      0.004096        0.003027        0.003972   \n",
            "POWERGRID.csv         0.000426      0.001309        0.001072        0.000996   \n",
            "RELIANCE.csv          0.001889      0.002302        0.001947        0.002630   \n",
            "SBIN.csv              0.003733      0.005587        0.003474        0.006158   \n",
            "SUNPHARMA.csv         0.003105      0.003863        0.002846        0.003953   \n",
            "TATAMOTORS.csv        0.006126      0.008657        0.005486        0.009655   \n",
            "TATASTEEL.csv         0.001862      0.002720        0.003024        0.002908   \n",
            "TCS.csv               0.001726      0.001871        0.001304        0.002302   \n",
            "TECHM.csv             0.002239      0.002833        0.001712        0.003434   \n",
            "TITAN.csv             0.004215      0.005218        0.003776        0.005895   \n",
            "ULTRACEMCO.csv        0.002933      0.003702        0.002719        0.003963   \n",
            "WIPRO.csv             0.001662      0.002129        0.000892        0.002683   \n",
            "\n",
            "                BHARTIARTL.csv  HCLTECH.csv  HDFCBANK.csv  HINDUNILVR.csv  \\\n",
            "ASIANPAINT.csv        0.002240     0.002450      0.001784        0.001282   \n",
            "AXISBANK.csv          0.002936     0.002945      0.002605        0.001221   \n",
            "BAJAJFINSV.csv        0.002654     0.002004      0.002009        0.001059   \n",
            "BAJFINANCE.csv        0.002964     0.003344      0.002900        0.001357   \n",
            "BHARTIARTL.csv        0.004834     0.002987      0.001578        0.001098   \n",
            "HCLTECH.csv           0.002987     0.004135      0.001685        0.000943   \n",
            "HDFCBANK.csv          0.001578     0.001685      0.002229        0.000843   \n",
            "HINDUNILVR.csv        0.001098     0.000943      0.000843        0.001322   \n",
            "ICICIBANK.csv         0.003814     0.003792      0.003050        0.001399   \n",
            "INDUSINDBK.csv        0.002892     0.003510      0.003220        0.001270   \n",
            "INFY.csv              0.001646     0.002856      0.001353        0.000597   \n",
            "ITC.csv               0.004142     0.003420      0.002314        0.001588   \n",
            "JSWSTEEL.csv          0.004302     0.005152      0.003250        0.001455   \n",
            "KOTAKBANK.csv         0.001156     0.001213      0.001483        0.000639   \n",
            "LT.csv                0.004587     0.004370      0.002767        0.001459   \n",
            "M&M.csv               0.004835     0.004478      0.002998        0.001658   \n",
            "MARUTI.csv            0.002327     0.002127      0.001686        0.001045   \n",
            "NESTLEIND.csv         0.001036     0.000883      0.000506        0.000642   \n",
            "NTPC.csv              0.004316     0.003807      0.002056        0.001100   \n",
            "POWERGRID.csv         0.001628     0.001329      0.000539        0.000138   \n",
            "RELIANCE.csv          0.002243     0.002274      0.001524        0.000891   \n",
            "SBIN.csv              0.003657     0.004012      0.003153        0.001296   \n",
            "SUNPHARMA.csv         0.004188     0.003867      0.002005        0.001287   \n",
            "TATAMOTORS.csv        0.007008     0.007658      0.004576        0.002087   \n",
            "TATASTEEL.csv         0.003084     0.002419      0.001613        0.000944   \n",
            "TCS.csv               0.001764     0.002448      0.001195        0.000666   \n",
            "TECHM.csv             0.001987     0.003134      0.001597        0.000660   \n",
            "TITAN.csv             0.004529     0.004709      0.002921        0.001736   \n",
            "ULTRACEMCO.csv        0.003334     0.003381      0.002074        0.001250   \n",
            "WIPRO.csv             0.001088     0.002585      0.001280        0.000486   \n",
            "\n",
            "                ICICIBANK.csv  INDUSINDBK.csv  ...  RELIANCE.csv  SBIN.csv  \\\n",
            "ASIANPAINT.csv       0.003635        0.003195  ...      0.001889  0.003733   \n",
            "AXISBANK.csv         0.005241        0.005678  ...      0.002302  0.005587   \n",
            "BAJAJFINSV.csv       0.003590        0.003547  ...      0.001947  0.003474   \n",
            "BAJFINANCE.csv       0.005552        0.005798  ...      0.002630  0.006158   \n",
            "BHARTIARTL.csv       0.003814        0.002892  ...      0.002243  0.003657   \n",
            "HCLTECH.csv          0.003792        0.003510  ...      0.002274  0.004012   \n",
            "HDFCBANK.csv         0.003050        0.003220  ...      0.001524  0.003153   \n",
            "HINDUNILVR.csv       0.001399        0.001270  ...      0.000891  0.001296   \n",
            "ICICIBANK.csv        0.006643        0.005975  ...      0.002938  0.006646   \n",
            "INDUSINDBK.csv       0.005975        0.009067  ...      0.002586  0.006732   \n",
            "INFY.csv             0.002750        0.002773  ...      0.001613  0.003208   \n",
            "ITC.csv              0.005218        0.004139  ...      0.002713  0.005324   \n",
            "JSWSTEEL.csv         0.007352        0.007254  ...      0.003425  0.008263   \n",
            "KOTAKBANK.csv        0.002372        0.002535  ...      0.001195  0.002421   \n",
            "LT.csv               0.006231        0.005747  ...      0.002945  0.006487   \n",
            "M&M.csv              0.006484        0.006001  ...      0.003356  0.006619   \n",
            "MARUTI.csv           0.003278        0.003236  ...      0.001670  0.003329   \n",
            "NESTLEIND.csv        0.000898        0.001002  ...      0.000741  0.000720   \n",
            "NTPC.csv             0.004993        0.004464  ...      0.002646  0.005160   \n",
            "POWERGRID.csv        0.001350        0.001456  ...      0.000921  0.001438   \n",
            "RELIANCE.csv         0.002938        0.002586  ...      0.002935  0.002952   \n",
            "SBIN.csv             0.006646        0.006732  ...      0.002952  0.008184   \n",
            "SUNPHARMA.csv        0.004984        0.004116  ...      0.002703  0.005144   \n",
            "TATAMOTORS.csv       0.010610        0.010319  ...      0.005251  0.012184   \n",
            "TATASTEEL.csv        0.003421        0.003083  ...      0.001967  0.003499   \n",
            "TCS.csv              0.002438        0.002253  ...      0.001505  0.002630   \n",
            "TECHM.csv            0.003372        0.003411  ...      0.001799  0.003815   \n",
            "TITAN.csv            0.006557        0.005768  ...      0.003388  0.006848   \n",
            "ULTRACEMCO.csv       0.004605        0.004121  ...      0.002286  0.004851   \n",
            "WIPRO.csv            0.002472        0.002775  ...      0.001348  0.003027   \n",
            "\n",
            "                SUNPHARMA.csv  TATAMOTORS.csv  TATASTEEL.csv   TCS.csv  \\\n",
            "ASIANPAINT.csv       0.003105        0.006126       0.001862  0.001726   \n",
            "AXISBANK.csv         0.003863        0.008657       0.002720  0.001871   \n",
            "BAJAJFINSV.csv       0.002846        0.005486       0.003024  0.001304   \n",
            "BAJFINANCE.csv       0.003953        0.009655       0.002908  0.002302   \n",
            "BHARTIARTL.csv       0.004188        0.007008       0.003084  0.001764   \n",
            "HCLTECH.csv          0.003867        0.007658       0.002419  0.002448   \n",
            "HDFCBANK.csv         0.002005        0.004576       0.001613  0.001195   \n",
            "HINDUNILVR.csv       0.001287        0.002087       0.000944  0.000666   \n",
            "ICICIBANK.csv        0.004984        0.010610       0.003421  0.002438   \n",
            "INDUSINDBK.csv       0.004116        0.010319       0.003083  0.002253   \n",
            "INFY.csv             0.002409        0.005821       0.001338  0.002056   \n",
            "ITC.csv              0.005187        0.009481       0.003812  0.002075   \n",
            "JSWSTEEL.csv         0.006349        0.014485       0.004642  0.003297   \n",
            "KOTAKBANK.csv        0.001306        0.003358       0.001082  0.000892   \n",
            "LT.csv               0.005714        0.011643       0.004044  0.002603   \n",
            "M&M.csv              0.006196        0.012369       0.004183  0.002695   \n",
            "MARUTI.csv           0.002882        0.005985       0.002062  0.001376   \n",
            "NESTLEIND.csv        0.000976        0.001534       0.000793  0.000533   \n",
            "NTPC.csv             0.005279        0.009821       0.003898  0.002124   \n",
            "POWERGRID.csv        0.001564        0.002933       0.001504  0.000621   \n",
            "RELIANCE.csv         0.002703        0.005251       0.001967  0.001505   \n",
            "SBIN.csv             0.005144        0.012184       0.003499  0.002630   \n",
            "SUNPHARMA.csv        0.006227        0.009622       0.003606  0.002267   \n",
            "TATAMOTORS.csv       0.009622        0.024198       0.006376  0.004902   \n",
            "TATASTEEL.csv        0.003606        0.006376       0.004990  0.001500   \n",
            "TCS.csv              0.002267        0.004902       0.001500  0.002100   \n",
            "TECHM.csv            0.002933        0.006889       0.001789  0.002176   \n",
            "TITAN.csv            0.005878        0.012260       0.003871  0.002976   \n",
            "ULTRACEMCO.csv       0.004263        0.008294       0.003033  0.002084   \n",
            "WIPRO.csv            0.001926        0.005566       0.001130  0.001926   \n",
            "\n",
            "                TECHM.csv  TITAN.csv  ULTRACEMCO.csv  WIPRO.csv  \n",
            "ASIANPAINT.csv   0.002239   0.004215        0.002933   0.001662  \n",
            "AXISBANK.csv     0.002833   0.005218        0.003702   0.002129  \n",
            "BAJAJFINSV.csv   0.001712   0.003776        0.002719   0.000892  \n",
            "BAJFINANCE.csv   0.003434   0.005895        0.003963   0.002683  \n",
            "BHARTIARTL.csv   0.001987   0.004529        0.003334   0.001088  \n",
            "HCLTECH.csv      0.003134   0.004709        0.003381   0.002585  \n",
            "HDFCBANK.csv     0.001597   0.002921        0.002074   0.001280  \n",
            "HINDUNILVR.csv   0.000660   0.001736        0.001250   0.000486  \n",
            "ICICIBANK.csv    0.003372   0.006557        0.004605   0.002472  \n",
            "INDUSINDBK.csv   0.003411   0.005768        0.004121   0.002775  \n",
            "INFY.csv         0.002938   0.003298        0.002316   0.002737  \n",
            "ITC.csv          0.002465   0.005987        0.004237   0.001369  \n",
            "JSWSTEEL.csv     0.004996   0.008203        0.005769   0.004098  \n",
            "KOTAKBANK.csv    0.001257   0.002228        0.001517   0.001027  \n",
            "LT.csv           0.003510   0.007179        0.005186   0.002492  \n",
            "M&M.csv          0.003528   0.007384        0.005228   0.002399  \n",
            "MARUTI.csv       0.001745   0.003710        0.002664   0.001278  \n",
            "NESTLEIND.csv    0.000500   0.001360        0.000935   0.000493  \n",
            "NTPC.csv         0.002659   0.006095        0.004308   0.001734  \n",
            "POWERGRID.csv    0.000768   0.001815        0.001313   0.000577  \n",
            "RELIANCE.csv     0.001799   0.003388        0.002286   0.001348  \n",
            "SBIN.csv         0.003815   0.006848        0.004851   0.003027  \n",
            "SUNPHARMA.csv    0.002933   0.005878        0.004263   0.001926  \n",
            "TATAMOTORS.csv   0.006889   0.012260        0.008294   0.005566  \n",
            "TATASTEEL.csv    0.001789   0.003871        0.003033   0.001130  \n",
            "TCS.csv          0.002176   0.002976        0.002084   0.001926  \n",
            "TECHM.csv        0.003898   0.003987        0.002717   0.002904  \n",
            "TITAN.csv        0.003987   0.008516        0.005245   0.003023  \n",
            "ULTRACEMCO.csv   0.002717   0.005245        0.004557   0.002010  \n",
            "WIPRO.csv        0.002904   0.003023        0.002010   0.003528  \n",
            "\n",
            "[30 rows x 30 columns]\n",
            "CONSISTENCY CHECK\n",
            "------------------------------------------------------------\n",
            "Stock                Var_from_cov        Std_dev_squared Both_var_same      \n",
            "ASIANPAINT.csv     0.003446            0.003446            Yes\n",
            "AXISBANK.csv       0.005333            0.005333            Yes\n",
            "BAJAJFINSV.csv     0.004286            0.004286            Yes\n",
            "BAJFINANCE.csv     0.006778            0.006778            Yes\n",
            "BHARTIARTL.csv     0.004834            0.004834            Yes\n",
            "HCLTECH.csv        0.004135            0.004135            Yes\n",
            "HDFCBANK.csv       0.002229            0.002229            Yes\n",
            "HINDUNILVR.csv     0.001322            0.001322            Yes\n",
            "ICICIBANK.csv      0.006643            0.006643            Yes\n",
            "INDUSINDBK.csv     0.009067            0.009067            Yes\n",
            "INFY.csv           0.003344            0.003344            Yes\n",
            "ITC.csv            0.006947            0.006947            Yes\n",
            "JSWSTEEL.csv       0.011642            0.011642            Yes\n",
            "KOTAKBANK.csv      0.001969            0.001969            Yes\n",
            "LT.csv             0.007739            0.007739            Yes\n",
            "M&M.csv            0.009087            0.009087            Yes\n",
            "MARUTI.csv         0.003100            0.003100            Yes\n",
            "NESTLEIND.csv      0.001334            0.001334            Yes\n",
            "NTPC.csv           0.006898            0.006898            Yes\n",
            "POWERGRID.csv      0.002594            0.002594            Yes\n",
            "RELIANCE.csv       0.002935            0.002935            Yes\n",
            "SBIN.csv           0.008184            0.008184            Yes\n",
            "SUNPHARMA.csv      0.006227            0.006227            Yes\n",
            "TATAMOTORS.csv     0.024198            0.024198            Yes\n",
            "TATASTEEL.csv      0.004990            0.004990            Yes\n",
            "TCS.csv            0.002100            0.002100            Yes\n",
            "TECHM.csv          0.003898            0.003898            Yes\n",
            "TITAN.csv          0.008516            0.008516            Yes\n",
            "ULTRACEMCO.csv     0.004557            0.004557            Yes\n",
            "WIPRO.csv          0.003528            0.003528            Yes\n",
            "\n",
            "The covariance values are consistent with the computed standard deviations.\n"
          ]
        }
      ],
      "source": [
        "returns = df.pct_change(periods=5)\n",
        "cov_matrix = returns.cov()\n",
        "\n",
        "print(\"COVAR MATRIX\")\n",
        "print(cov_matrix)\n",
        "\n",
        "std_devs = returns.std()\n",
        "print(\"CONSISTENCY CHECK\")\n",
        "print(\"-\" * 60)\n",
        "print(\"{:<20} {:<19} {:<12} {:<19}\".format(\"Stock\", \"Var_from_cov\", \"Std_dev_squared\", \"Both_var_same\"))\n",
        "consistent = True\n",
        "\n",
        "for stock in cov_matrix.columns:\n",
        "    variance = cov_matrix.loc[stock, stock]\n",
        "    std_dev_squared = std_devs[stock] ** 2\n",
        "    is_consistent = np.isclose(variance, std_dev_squared, atol=1e-6)\n",
        "\n",
        "    print(f\"{stock:<19}{variance:<20f}{std_dev_squared:<20f}{'Yes' if is_consistent else 'No'}\")\n",
        "\n",
        "    if not np.isclose(variance, std_dev_squared, atol=1e-6):\n",
        "        consistent = False\n",
        "\n",
        "if consistent:\n",
        "    print(\"\\nThe covariance values are consistent with the computed standard deviations.\")\n",
        "else:\n",
        "    print(\"\\nThere are inconsistencies between the covariance values and the computed standard deviations.\")\n"
      ]
    },
    {
      "cell_type": "markdown",
      "metadata": {
        "id": "LYeI5MbI4BP_"
      },
      "source": [
        "#1.4"
      ]
    },
    {
      "cell_type": "code",
      "execution_count": 11,
      "metadata": {
        "colab": {
          "base_uri": "https://localhost:8080/"
        },
        "id": "WUjfEN4B5GEQ",
        "outputId": "f7cdb357-2871-443c-b462-5824f730b29f"
      },
      "outputs": [
        {
          "name": "stdout",
          "output_type": "stream",
          "text": [
            "Stock with highest return: TATAMOTORS.csv\n",
            "Highest Average Return: 0.015253\n",
            "Standard Deviation: 0.155558\n",
            "Highly correlated pairs\n",
            "ICICIBANK.csv & SBIN.csv: Correlation = 0.901339\n",
            "LT.csv & TITAN.csv: Correlation = 0.884361\n",
            "AXISBANK.csv & ICICIBANK.csv: Correlation = 0.880656\n"
          ]
        }
      ],
      "source": [
        "highest_avg_stock = max(avg_returns, key=avg_returns.get)\n",
        "highest_avg_return = avg_returns[highest_avg_stock]\n",
        "highest_std_dev = std_devs[highest_avg_stock]\n",
        "\n",
        "print(f\"Stock with highest return: {highest_avg_stock}\")\n",
        "print(f\"Highest Average Return: {highest_avg_return:.6f}\")\n",
        "print(f\"Standard Deviation: {highest_std_dev:.6f}\")\n",
        "\n",
        "correlation_matrix = np.corrcoef(returns.fillna(0).T)\n",
        "print(\"Highly correlated pairs\")\n",
        "correlated_pairs = []\n",
        "stock_names = returns.columns\n",
        "for i in range(len(stock_names)):\n",
        "    for j in range(i + 1, len(stock_names)):\n",
        "        correlated_pairs.append((stock_names[i], stock_names[j], correlation_matrix[i][j]))\n",
        "\n",
        "correlated_pairs = sorted(correlated_pairs, key=lambda x: abs(x[2]), reverse=True)[:3]\n",
        "\n",
        "for stock1, stock2, correlation_value in correlated_pairs:\n",
        "    print(f\"{stock1} & {stock2}: Correlation = {correlation_value:.6f}\")"
      ]
    },
    {
      "cell_type": "markdown",
      "metadata": {
        "id": "Ihkl5Bb-kM1h"
      },
      "source": [
        "# 1.5\n"
      ]
    },
    {
      "cell_type": "markdown",
      "metadata": {
        "id": "o1ov2imh5S7w"
      },
      "source": [
        "The (??) should be 1,00,00,000 (1 crore), which is the total investment amount. This is because:\n",
        "\n",
        "The left side Σ μᵢxᵢ gives us the total expected return in rupees (since xᵢ is in rupees and μᵢ is a rate)\n",
        "On the right side, 0.00025 is the target return rate\n",
        "To make the units match, we need to multiply the rate by the total investment amount"
      ]
    },
    {
      "cell_type": "markdown",
      "metadata": {
        "id": "FL1Ml9U152ja"
      },
      "source": [
        "So the final constraint becomes:"
      ]
    },
    {
      "cell_type": "markdown",
      "metadata": {
        "id": "7XYNY1Bs55pZ"
      },
      "source": [
        "Σµixi ≥ 0.00025 × (1,00,00,000)(return-rate)"
      ]
    },
    {
      "cell_type": "markdown",
      "metadata": {
        "id": "_xPCsifZ6Jpa"
      },
      "source": [
        "# 1.6"
      ]
    },
    {
      "cell_type": "code",
      "execution_count": null,
      "metadata": {},
      "outputs": [],
      "source": [
        "!pip install pyomo gurobipy\n",
        "!pip install numpy\n",
        "!pip install matplotlib\n",
        "!pip install seaborn"
      ]
    },
    {
      "cell_type": "code",
      "execution_count": null,
      "metadata": {},
      "outputs": [],
      "source": [
        "import pyomo.environ as pyo\n",
        "from pyomo.opt import SolverFactory\n",
        "import matplotlib.pyplot as plt"
      ]
    },
    {
      "cell_type": "code",
      "execution_count": 18,
      "metadata": {},
      "outputs": [],
      "source": [
        "mean_ret = returns.mean()  \n",
        "cov_mat = returns.cov()  \n",
        "model = pyo.ConcreteModel()\n",
        "n_stocks = len(mean_ret)\n",
        "model.stocks = pyo.RangeSet(0, n_stocks - 1)\n",
        "model.alloc = pyo.Var(model.stocks, domain=pyo.NonNegativeReals)\n",
        "model.budget = pyo.Constraint(expr=sum(model.alloc[i] for i in model.stocks) == 10_000_000)"
      ]
    },
    {
      "cell_type": "code",
      "execution_count": 19,
      "metadata": {},
      "outputs": [
        {
          "name": "stderr",
          "output_type": "stream",
          "text": [
            "C:\\Users\\dolly\\AppData\\Local\\Temp\\ipykernel_15068\\2083353701.py:8: FutureWarning: Series.__getitem__ treating keys as positions is deprecated. In a future version, integer keys will always be treated as labels (consistent with DataFrame behavior). To access a value by position, use `ser.iloc[pos]`\n",
            "  expr=sum(mean_ret[i] * model.alloc[i] for i in model.stocks) >= target_ret\n"
          ]
        },
        {
          "data": {
            "image/png": "[encoded data removed]",
            "text/plain": [
              "<Figure size 800x500 with 1 Axes>"
            ]
          },
          "metadata": {},
          "output_type": "display_data"
        }
      ],
      "source": [
        "def optimize(target_ret):\n",
        "    if hasattr(model, \"ret_constraint\"):\n",
        "        model.del_component(model.ret_constraint)\n",
        "    if hasattr(model, \"risk_obj\"):\n",
        "        model.del_component(model.risk_obj)\n",
        "\n",
        "    model.ret_constraint = pyo.Constraint(\n",
        "        expr=sum(mean_ret[i] * model.alloc[i] for i in model.stocks) >= target_ret\n",
        "    )\n",
        "\n",
        "    model.risk_obj = pyo.Objective(\n",
        "        expr=sum(model.alloc[i] * cov_mat.iloc[i, j] * model.alloc[j] \n",
        "                 for i in model.stocks for j in model.stocks),\n",
        "        sense=pyo.minimize\n",
        "    )\n",
        "\n",
        "    solver = SolverFactory(\"gurobi\")\n",
        "    result = solver.solve(model, tee=False)\n",
        "\n",
        "    if result.solver.status != pyo.SolverStatus.ok:\n",
        "        return target_ret, None\n",
        "\n",
        "    risk_val = sum(model.alloc[i].value * cov_mat.iloc[i, j] * model.alloc[j].value \n",
        "                   for i in model.stocks for j in model.stocks)\n",
        "\n",
        "    return target_ret, risk_val\n",
        "\n",
        "ret_targets = np.linspace(mean_ret.min() * 10_000_000, mean_ret.max() * 10_000_000, 10)\n",
        "risk_values = []\n",
        "\n",
        "for target in ret_targets:\n",
        "    solved_ret, solved_risk = optimize(target)\n",
        "    if solved_risk is not None:\n",
        "        risk_values.append((solved_risk, solved_ret))\n",
        "        \n",
        "\n",
        "risk_values, ret_targets = zip(*risk_values)\n",
        "\n",
        "plt.figure(figsize=(8, 5))\n",
        "plt.plot(risk_values, ret_targets, marker='o', linestyle='-', color='purple', label=\"Efficient Frontier\")\n",
        "plt.xlabel(\"Portfolio Risk (Variance)\", fontsize=12)\n",
        "plt.ylabel(\"Portfolio Expected Return\", fontsize=12)\n",
        "plt.title(\"Risk-Return Curve\", fontsize=14, fontweight='bold')\n",
        "plt.legend(fontsize=10)\n",
        "plt.grid(which='both', linestyle='--', linewidth=0.5)\n",
        "plt.show()\n"
      ]
    },
    {
      "cell_type": "markdown",
      "metadata": {},
      "source": [
        "# 1.7"
      ]
    },
    {
      "cell_type": "markdown",
      "metadata": {},
      "source": [
        "To maximize the returns and constrain the risk :\n",
        "formulation -\n",
        "OBJECTIVE FUNCTION : max∑​μi​xi​\n",
        "CONSTRAINTS : ∑​∑​xi​σij​xj​≤risk_threshold\n",
        " ∑ixi=1,00,00,000\n",
        " xi≥0"
      ]
    },
    {
      "cell_type": "code",
      "execution_count": null,
      "metadata": {},
      "outputs": [],
      "source": [
        "opt_model = pyo.ConcreteModel()\n",
        "num_stocks = len(mean_ret)\n",
        "opt_model.stocks = pyo.RangeSet(0, num_stocks - 1)\n",
        "opt_model.allocations = pyo.Var(opt_model.stocks, domain=pyo.NonNegativeReals)\n",
        "opt_model.budget_constraint = pyo.Constraint(expr=sum(opt_model.allocations[i] for i in opt_model.stocks) == 10_000_000)"
      ]
    },
    {
      "cell_type": "code",
      "execution_count": 32,
      "metadata": {},
      "outputs": [
        {
          "name": "stderr",
          "output_type": "stream",
          "text": [
            "C:\\Users\\dolly\\AppData\\Local\\Temp\\ipykernel_15068\\1824420037.py:22: FutureWarning: Series.__getitem__ treating keys as positions is deprecated. In a future version, integer keys will always be treated as labels (consistent with DataFrame behavior). To access a value by position, use `ser.iloc[pos]`\n",
            "  expr=sum(mean_ret[i] * opt_model.allocations[i] for i in opt_model.stocks),\n"
          ]
        },
        {
          "name": "stdout",
          "output_type": "stream",
          "text": [
            "WARNING: Loading a SolverResults object with a warning status into\n",
            "model.name=\"unknown\";\n",
            "    - termination condition: infeasibleOrUnbounded\n",
            "    - message from solver: Problem proven to be infeasible or unbounded.\n",
            "Solver failed for risk limit 0.0\n",
            "WARNING: Loading a SolverResults object with a warning status into\n",
            "model.name=\"unknown\";\n",
            "    - termination condition: infeasibleOrUnbounded\n",
            "    - message from solver: Problem proven to be infeasible or unbounded.\n",
            "Solver failed for risk limit 1111111111.1111112\n",
            "WARNING: Loading a SolverResults object with a warning status into\n",
            "model.name=\"unknown\";\n",
            "    - termination condition: infeasibleOrUnbounded\n",
            "    - message from solver: Problem proven to be infeasible or unbounded.\n",
            "Solver failed for risk limit 2222222222.2222223\n",
            "WARNING: Loading a SolverResults object with a warning status into\n",
            "model.name=\"unknown\";\n",
            "    - termination condition: infeasibleOrUnbounded\n",
            "    - message from solver: Problem proven to be infeasible or unbounded.\n",
            "Solver failed for risk limit 3333333333.3333335\n",
            "WARNING: Loading a SolverResults object with a warning status into\n",
            "model.name=\"unknown\";\n",
            "    - termination condition: infeasibleOrUnbounded\n",
            "    - message from solver: Problem proven to be infeasible or unbounded.\n",
            "Solver failed for risk limit 4444444444.444445\n",
            "WARNING: Loading a SolverResults object with a warning status into\n",
            "model.name=\"unknown\";\n",
            "    - termination condition: infeasibleOrUnbounded\n",
            "    - message from solver: Problem proven to be infeasible or unbounded.\n",
            "Solver failed for risk limit 5555555555.555555\n",
            "WARNING: Loading a SolverResults object with a warning status into\n",
            "model.name=\"unknown\";\n",
            "    - termination condition: infeasibleOrUnbounded\n",
            "    - message from solver: Problem proven to be infeasible or unbounded.\n",
            "Solver failed for risk limit 6666666666.666667\n",
            "WARNING: Loading a SolverResults object with a warning status into\n",
            "model.name=\"unknown\";\n",
            "    - termination condition: infeasibleOrUnbounded\n",
            "    - message from solver: Problem proven to be infeasible or unbounded.\n",
            "Solver failed for risk limit 7777777777.777779\n",
            "WARNING: Loading a SolverResults object with a warning status into\n",
            "model.name=\"unknown\";\n",
            "    - termination condition: infeasibleOrUnbounded\n",
            "    - message from solver: Problem proven to be infeasible or unbounded.\n",
            "Solver failed for risk limit 8888888888.88889\n",
            "WARNING: Loading a SolverResults object with a warning status into\n",
            "model.name=\"unknown\";\n",
            "    - termination condition: infeasibleOrUnbounded\n",
            "    - message from solver: Problem proven to be infeasible or unbounded.\n",
            "Solver failed for risk limit 10000000000.0\n",
            "No valid solutions found. Check the risk thresholds or solver settings.\n"
          ]
        }
      ],
      "source": [
        "def optimize_with_risk_limit(risk_limit):\n",
        "    if hasattr(opt_model, \"risk_constraint\"):\n",
        "        opt_model.del_component(opt_model.risk_constraint)\n",
        "    if hasattr(opt_model, \"return_objective\"):\n",
        "        opt_model.del_component(opt_model.return_objective)\n",
        "    \n",
        "    opt_model.return_objective = pyo.Objective(expr=sum(mean_ret[i] * opt_model.allocations[i] for i in opt_model.stocks),sense=pyo.maximize)\n",
        "    opt_model.risk_constraint = pyo.Constraint(expr=sum(opt_model.allocations[i] * cov_mat.iloc[i, j] * opt_model.allocations[j] \n",
        "                 for i in opt_model.stocks for j in opt_model.stocks) <= risk_limit)\n",
        "    solver = SolverFactory(\"gurobi\")\n",
        "    result = solver.solve(opt_model, tee=False)\n",
        "    if result.solver.status != pyo.SolverStatus.ok:\n",
        "        print(f\"Solver failed for risk limit {risk_limit}\")\n",
        "        return risk_limit, None\n",
        "    portfolio_return = sum(mean_ret[i] * opt_model.allocations[i].value for i in opt_model.stocks)\n",
        "    \n",
        "    return risk_limit, portfolio_return\n",
        "\n",
        "min_risk = 0\n",
        "max_risk = 1e10\n",
        "risk_thresholds = np.linspace(min_risk, max_risk, 10)\n",
        "return_data = []\n",
        "\n",
        "for risk in risk_thresholds:\n",
        "    risk_val, return_val = optimize_with_risk_limit(risk)\n",
        "    if return_val is not None:\n",
        "        return_data.append((risk_val, return_val))\n",
        "\n",
        "if not return_data:\n",
        "    print(\"No valid solutions found. Check the risk thresholds or solver settings.\")\n",
        "else:\n",
        "    risk_vals, return_vals = zip(*return_data)\n",
        "\n",
        "    plt.figure(figsize=(8, 5))\n",
        "    plt.plot(risk_vals, return_vals, marker='o', linestyle='-', color='blue', label=\"Return vs Risk\")\n",
        "    plt.xlabel(\"Portfolio Risk (Variance)\", fontsize=12)\n",
        "    plt.ylabel(\"Portfolio Expected Return\", fontsize=12)\n",
        "    plt.title(\"Return-Risk Curve (Max Return for Given Risk)\", fontsize=14, fontweight='bold')\n",
        "    plt.legend(fontsize=10)\n",
        "    plt.grid(which='both', linestyle='--', linewidth=0.5)\n",
        "    plt.show()\n"
      ]
    },
    {
      "cell_type": "markdown",
      "metadata": {},
      "source": [
        "1.8"
      ]
    },
    {
      "cell_type": "code",
      "execution_count": 36,
      "metadata": {},
      "outputs": [
        {
          "name": "stdout",
          "output_type": "stream",
          "text": [
            "Expected Return: 0.5875\n",
            "Portfolio Risk: 0.0584\n"
          ]
        }
      ],
      "source": [
        "n = len(df.columns) - 1\n",
        "total_investment = 10_000_000\n",
        "alloc_per_stock = total_investment / n\n",
        "exp_ret = np.mean(list(avg_returns.values()))\n",
        "cov_vals = cov_matrix.values\n",
        "port_variance = 0\n",
        "for i in range(n):\n",
        "    for j in range(n):\n",
        "        port_variance += (1 / n**2) * cov_vals[i, j]\n",
        "\n",
        "port_risk = np.sqrt(port_variance)\n",
        "\n",
        "print(f\"Expected Return: {exp_ret * 100:.4f}\")\n",
        "print(f\"Portfolio Risk: {port_risk:.4f}\")\n"
      ]
    }
  ],
  "metadata": {
    "colab": {
      "provenance": []
    },
    "kernelspec": {
      "display_name": "har",
      "language": "python",
      "name": "python3"
    },
    "language_info": {
      "codemirror_mode": {
        "name": "ipython",
        "version": 3
      },
      "file_extension": ".py",
      "mimetype": "text/x-python",
      "name": "python",
      "nbconvert_exporter": "python",
      "pygments_lexer": "ipython3",
      "version": "3.10.16"
    }
  },
  "nbformat": 4,
  "nbformat_minor": 0
}
