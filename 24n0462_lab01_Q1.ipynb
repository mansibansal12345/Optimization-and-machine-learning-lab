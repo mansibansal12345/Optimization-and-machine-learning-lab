{
  "nbformat": 4,
  "nbformat_minor": 0,
  "metadata": {
    "colab": {
      "provenance": []
    },
    "kernelspec": {
      "name": "python3",
      "display_name": "Python 3"
    },
    "language_info": {
      "name": "python"
    }
  },
  "cells": [
    {
      "cell_type": "code",
      "source": [
        "import pyomo.environ as py"
      ],
      "metadata": {
        "id": "55qCQ0Q0SXmU"
      },
      "execution_count": null,
      "outputs": []
    },
    {
      "cell_type": "code",
      "source": [
        "roll_length = 1030\n",
        "\n",
        "sizes_1 = [1000, 980, 940, 640, 630, 60, 55, 50, 45, 40]\n",
        "demands_1 = [76, 50, 1189, 3876, 4187, 945, 817, 138, 1380, 140]"
      ],
      "metadata": {
        "id": "1-Wv7dD7Sab5"
      },
      "execution_count": null,
      "outputs": []
    },
    {
      "cell_type": "code",
      "source": [
        "patterns_1 = []\n",
        "\n",
        "for i in range(len(sizes_1)):\n",
        "    size = sizes_1[i]\n",
        "    max_pieces = roll_length // size\n",
        "    pattern = [0] * len(sizes_1)\n",
        "    pattern[i] = max_pieces\n",
        "    patterns_1.append(pattern)\n",
        "\n",
        "for i in range(len(sizes_1)):\n",
        "    for j in range(i + 1, len(sizes_1)):\n",
        "        size1 = sizes_1[i]\n",
        "        size2 = sizes_1[j]\n",
        "        max_pieces1 = roll_length // size1\n",
        "        for count1 in range(max_pieces1 + 1):\n",
        "            remaining_length = roll_length - (count1 * size1)\n",
        "            max_pieces2 = remaining_length // size2\n",
        "            if max_pieces2 > 0:\n",
        "                pattern = [0] * len(sizes_1)\n",
        "                pattern[i] = count1\n",
        "                pattern[j] = max_pieces2\n",
        "                patterns_1.append(pattern)"
      ],
      "metadata": {
        "id": "avzRqacvSfXd"
      },
      "execution_count": null,
      "outputs": []
    },
    {
      "cell_type": "code",
      "source": [
        "model_1 = py.ConcreteModel()\n",
        "model_1.I = range(len(sizes_1))\n",
        "model_1.J = range(len(patterns_1))\n",
        "model_1.t = py.Var(model_1.J, domain=py.NonNegativeIntegers)"
      ],
      "metadata": {
        "id": "AB1zzR0xSiuc"
      },
      "execution_count": null,
      "outputs": []
    },
    {
      "cell_type": "code",
      "source": [
        "def calculate_total(model):\n",
        "    total = 0\n",
        "    for j in model.J:\n",
        "        total += model.t[j]\n",
        "    return total"
      ],
      "metadata": {
        "id": "5HEezhvMSlVF"
      },
      "execution_count": null,
      "outputs": []
    },
    {
      "cell_type": "code",
      "source": [
        "model_1.objective = py.Objective(rule=calculate_total, sense=py.minimize)"
      ],
      "metadata": {
        "id": "kz-NCTrgSn6r"
      },
      "execution_count": null,
      "outputs": []
    },
    {
      "cell_type": "code",
      "source": [
        "def demand_satisfaction(model, i):\n",
        "    total = 0\n",
        "    for j in model.J:\n",
        "        total += patterns_1[j][i] * model.t[j]\n",
        "    return total >= demands_1[i]\n",
        "\n",
        "model_1.demand = py.Constraint(model_1.I, rule=demand_satisfaction)"
      ],
      "metadata": {
        "id": "AImvpcAHSq12"
      },
      "execution_count": null,
      "outputs": []
    },
    {
      "cell_type": "code",
      "source": [
        "solver = py.SolverFactory('gurobi')\n",
        "results_1 = solver.solve(model_1)\n",
        "\n",
        "if results_1.solver.status == py.SolverStatus.ok:\n",
        "    total_rolls = 0\n",
        "    for j in model_1.J:\n",
        "        total_rolls += model_1.t[j].value\n",
        "    print(\"Data Set 1: Total rolls required:\", total_rolls)"
      ],
      "metadata": {
        "id": "A3guFdL1SuOI"
      },
      "execution_count": null,
      "outputs": []
    },
    {
      "cell_type": "code",
      "source": [
        "# Data Set 2\n",
        "sizes_2 = [1000, 980, 940, 920, 900, 710, 700, 650, 640, 630, 60, 55, 50, 45, 40]\n",
        "demands_2 = [76, 50, 1189, 2210, 987, 894, 2850, 6603, 3876, 4187, 945, 817, 138, 1380, 140]"
      ],
      "metadata": {
        "id": "-TzfoIaqSu6l"
      },
      "execution_count": null,
      "outputs": []
    },
    {
      "cell_type": "code",
      "source": [
        "# Calculate possible patterns\n",
        "patterns_2 = []\n",
        "\n",
        "for i in range(len(sizes_2)):\n",
        "    size = sizes_2[i]\n",
        "    max_pieces = roll_length // size\n",
        "    pattern = [0] * len(sizes_2)\n",
        "    pattern[i] = max_pieces\n",
        "    patterns_2.append(pattern)\n",
        "\n",
        "for i in range(len(sizes_2)):\n",
        "    for j in range(i + 1, len(sizes_2)):\n",
        "        size1 = sizes_2[i]\n",
        "        size2 = sizes_2[j]\n",
        "        max_pieces1 = roll_length // size1\n",
        "        for count1 in range(max_pieces1 + 1):\n",
        "            remaining_length = roll_length - (count1 * size1)\n",
        "            max_pieces2 = remaining_length // size2\n",
        "            if max_pieces2 > 0:\n",
        "                pattern = [0] * len(sizes_2)\n",
        "                pattern[i] = count1\n",
        "                pattern[j] = max_pieces2\n",
        "                patterns_2.append(pattern)"
      ],
      "metadata": {
        "id": "8Hg-nsxpS0j8"
      },
      "execution_count": null,
      "outputs": []
    },
    {
      "cell_type": "code",
      "source": [
        "model_2 = py.ConcreteModel()\n",
        "model_2.I = range(len(sizes_2))\n",
        "model_2.J = range(len(patterns_2))\n",
        "model_2.t = py.Var(model_2.J, domain=py.NonNegativeIntegers)\n",
        "\n",
        "model_2.objective = py.Objective(rule=calculate_total, sense=py.minimize)"
      ],
      "metadata": {
        "id": "AcU4SVweS6pH"
      },
      "execution_count": null,
      "outputs": []
    },
    {
      "cell_type": "code",
      "source": [
        "def demand_satisfaction_2(model, i):\n",
        "    total = 0\n",
        "    for j in model.J:\n",
        "        total += patterns_2[j][i] * model.t[j]\n",
        "    return total >= demands_2[i]\n",
        "\n",
        "model_2.demand = py.Constraint(model_2.I, rule=demand_satisfaction_2)"
      ],
      "metadata": {
        "id": "JOhRt7arS7Av"
      },
      "execution_count": null,
      "outputs": []
    },
    {
      "cell_type": "code",
      "source": [
        "# Solver and results for Data Set 2\n",
        "results_2 = solver.solve(model_2)\n",
        "\n",
        "if results_2.solver.status == py.SolverStatus.ok:\n",
        "    total_rolls_2 = 0\n",
        "    for j in model_2.J:\n",
        "        total_rolls_2 += model_2.t[j].value\n",
        "    print(\"Data Set 2: Total rolls required:\", total_rolls_2)"
      ],
      "metadata": {
        "id": "p3-0giBQS-ku"
      },
      "execution_count": null,
      "outputs": []
    }
  ]
}