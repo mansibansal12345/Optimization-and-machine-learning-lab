{
  "nbformat": 4,
  "nbformat_minor": 0,
  "metadata": {
    "colab": {
      "provenance": []
    },
    "kernelspec": {
      "name": "python3",
      "display_name": "Python 3"
    },
    "language_info": {
      "name": "python"
    }
  },
  "cells": [
    {
      "cell_type": "code",
      "execution_count": null,
      "metadata": {
        "id": "bJyDjL8UTXLR"
      },
      "outputs": [],
      "source": [
        "def is_pattern_maximal(pattern, sizes, roll_length):\n",
        "    total_length = 0\n",
        "    for i in range(len(sizes)):\n",
        "        total_length += pattern[i] * sizes[i]\n",
        "\n",
        "    for i in range(len(sizes)):\n",
        "        if total_length + sizes[i] <= roll_length:\n",
        "            return False\n",
        "    return True\n",
        "\n",
        "def find_maximal_patterns(roll_length, sizes):\n",
        "    all_maximal_patterns = []\n",
        "    temp_pattern = [0] * len(sizes)\n",
        "\n",
        "    def create_patterns(current_index, remaining_space):\n",
        "        if current_index == len(sizes):\n",
        "            if is_pattern_maximal(temp_pattern, sizes, roll_length):\n",
        "                all_maximal_patterns.append(temp_pattern.copy())\n",
        "            return\n",
        "\n",
        "        item_size = sizes[current_index]\n",
        "        max_items = remaining_space // item_size\n",
        "\n",
        "        for item_count in range(max_items + 1):\n",
        "            temp_pattern[current_index] = item_count\n",
        "            new_space_left = remaining_space - (item_count * item_size)\n",
        "            create_patterns(current_index + 1, new_space_left)\n",
        "            temp_pattern[current_index] = 0\n",
        "\n",
        "    create_patterns(0, roll_length)\n",
        "    return len(all_maximal_patterns)\n",
        "\n"
      ]
    },
    {
      "cell_type": "code",
      "source": [
        "roll_length = 1030\n",
        "\n",
        "# Data Set 1\n",
        "sizes_data_1 = [1000, 980, 940, 640, 630, 60, 55, 50, 45, 40]\n",
        "max_patterns_1 = find_maximal_patterns(roll_length, sizes_data_1)\n",
        "print(f\"Data Set 1: Total maximal patterns: {max_patterns_1}\")\n",
        "\n",
        "# Data Set 2\n",
        "sizes_data_2 = [1000, 980, 940, 920, 900, 710, 700, 650, 640, 630, 60, 55, 50, 45, 40]\n",
        "max_patterns_2 = find_maximal_patterns(roll_length, sizes_data_2)\n",
        "print(f\"Data Set 2: Total maximal patterns: {max_patterns_2}\")"
      ],
      "metadata": {
        "id": "OTBG1i-YTsKt"
      },
      "execution_count": null,
      "outputs": []
    }
  ]
}